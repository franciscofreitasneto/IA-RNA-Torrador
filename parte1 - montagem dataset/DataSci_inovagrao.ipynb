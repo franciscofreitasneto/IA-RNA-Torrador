{
 "cells": [
  {
   "cell_type": "markdown",
   "metadata": {
    "id": "IlG8SHx7PwdH"
   },
   "source": [
    "# **Descrição do Projeto INOVAGRÃO - Software**\n",
    "## Descrição do Sistema:\n",
    "Para atender a necessidade de eficiência energética da torra de grãos de café de alta qualidade da região de Bom Jesus do Itabapoana e seu entorno, o Sistema deverá oferecer um suporte para a escolha de curvas de torra através do software \"Artisan\" (https://artisan-scope.org/).\n",
    "\n",
    "## Objetivos do Sistema:\n",
    "* Ser capaz de ler todos os lotes de torras fornecidos pelo \"Artisan\", extraindo as características de \"temperatura dos grãos\" e \"tempo de torra\";\n",
    "* Além das informações fundamentais acima, o sitema deverá recolher dados do ambiente de torra e características específicas dos grãos, afim de detectar padrões que levem à sugestões de curvas específicas para cada caso;\n",
    "* Para auxiliar a tomada de decisão, o sistema deve exportar a curva de torra no formato característico do \"Artisan\", permitindo ao operador importar os dados como uma refência a ser acompanhada na própria interface do \"Artisan\" durante a execução da torra.\n",
    "\n",
    "## Requisitos do Sistema: Etapa 1\n",
    "Para atender as características descritas acima, optou-se pelo teste de ferramentas de \"Ciência de Dados\" pela metodologia de prototipação afim de testar o sistema de suporte à decisão. As seguintes ferramentas foram selecionadas para testes: \n",
    "* **Carga e Manipulação da Base de Dados:**\n",
    "  * Python;\n",
    "  * Pandas;\n",
    "  * Numpy;\n",
    "* **Reconhecimento de Padrões e Inteligência Artifical:**\n",
    "  * TensorFlow;\n",
    "  * Keras;\n"
   ]
  },
  {
   "cell_type": "code",
   "execution_count": 49,
   "metadata": {
    "colab": {
     "base_uri": "https://localhost:8080/"
    },
    "id": "jBsgbt38ij3B",
    "outputId": "d5d509f8-85fa-424b-92b2-23f293fa1c19"
   },
   "outputs": [],
   "source": [
    "# Utilizar o pandas 1.3.0 ou superior."
   ]
  },
  {
   "cell_type": "markdown",
   "metadata": {
    "id": "Fvwl6uxGf8Ur"
   },
   "source": [
    "\n",
    "\n",
    "---\n",
    "\n"
   ]
  },
  {
   "cell_type": "markdown",
   "metadata": {
    "id": "2gMHz4OW-XOy"
   },
   "source": [
    "# Análise Dados de Torra - Projeto Inovagrão\n",
    "## Organização da Base de Dados:\n",
    "Para abrigar os diversos arquivos correspondentes a torra de lotes, os dados foram agrupados em diretórios distintos por categorias de grãos e referenciados por um arquivo índice que armazena informações complementares aos ambiente de torra.\n",
    "\n",
    "![Hierarquia das pastas .png](data:image/png;base64,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)\n"
   ]
  },
  {
   "cell_type": "markdown",
   "metadata": {
    "id": "-jhTaG0HTpEZ"
   },
   "source": [
    "### Parte 1 - Aquisição dos Dados"
   ]
  },
  {
   "cell_type": "code",
   "execution_count": 50,
   "metadata": {
    "id": "Bowb_jSn-F9B"
   },
   "outputs": [],
   "source": [
    "#Bibliotecas\n",
    "import pandas as pd\n",
    "import numpy as np\n",
    "import matplotlib.pyplot as plt\n",
    "plt.rc('figure', figsize=(15,15))"
   ]
  },
  {
   "cell_type": "code",
   "execution_count": 51,
   "metadata": {
    "id": "xBRqjKOO-spT"
   },
   "outputs": [],
   "source": [
    "# ** Carregando a base de dados **\n",
    "# O Arquivo \"dataset_cafe.csv\" contém as referências à todos os arquivos \".alog\"\n",
    "# que representam os \"batches\" de torra gerados pelo \"Artisan\". Além disso algumas\n",
    "# informações como a temperatura do ambiente e a unidade, também estão gravados\n",
    "# nesta base.\n",
    "\n",
    "# Carregando o arquivo \"dataset_cafe.csv\"\n",
    "dataset_referencia = pd.read_csv('../datasets/dataset_cafe.csv', sep=';')\n"
   ]
  },
  {
   "cell_type": "markdown",
   "metadata": {
    "id": "nEaSw8YxcT5_"
   },
   "source": [
    "### Exibição do Arquivo de referência\n"
   ]
  },
  {
   "cell_type": "code",
   "execution_count": 52,
   "metadata": {
    "colab": {
     "base_uri": "https://localhost:8080/",
     "height": 204
    },
    "id": "xBl7Nj5ucOTH",
    "outputId": "1ce0bfb7-f418-4bfb-8f19-14494f781a74"
   },
   "outputs": [
    {
     "data": {
      "text/html": [
       "<div>\n",
       "<style scoped>\n",
       "    .dataframe tbody tr th:only-of-type {\n",
       "        vertical-align: middle;\n",
       "    }\n",
       "\n",
       "    .dataframe tbody tr th {\n",
       "        vertical-align: top;\n",
       "    }\n",
       "\n",
       "    .dataframe thead th {\n",
       "        text-align: right;\n",
       "    }\n",
       "</style>\n",
       "<table border=\"1\" class=\"dataframe\">\n",
       "  <thead>\n",
       "    <tr style=\"text-align: right;\">\n",
       "      <th></th>\n",
       "      <th>grao</th>\n",
       "      <th>temp_amb</th>\n",
       "      <th>umid_amb</th>\n",
       "      <th>batch</th>\n",
       "      <th>arquivo</th>\n",
       "    </tr>\n",
       "  </thead>\n",
       "  <tbody>\n",
       "    <tr>\n",
       "      <th>0</th>\n",
       "      <td>cafe_saulo_especial</td>\n",
       "      <td>30.7</td>\n",
       "      <td>0.61</td>\n",
       "      <td>10</td>\n",
       "      <td>../datasets/Torra_Cafe_Saulo_Especial/Torra Ba...</td>\n",
       "    </tr>\n",
       "    <tr>\n",
       "      <th>1</th>\n",
       "      <td>cafe_saulo_especial</td>\n",
       "      <td>30.5</td>\n",
       "      <td>0.62</td>\n",
       "      <td>20</td>\n",
       "      <td>../datasets/Torra_Cafe_Saulo_Especial/Torra Ba...</td>\n",
       "    </tr>\n",
       "    <tr>\n",
       "      <th>2</th>\n",
       "      <td>cafe_saulo_especial</td>\n",
       "      <td>30.5</td>\n",
       "      <td>0.32</td>\n",
       "      <td>30</td>\n",
       "      <td>../datasets/Torra_Cafe_Saulo_Especial/Torra Ba...</td>\n",
       "    </tr>\n",
       "    <tr>\n",
       "      <th>3</th>\n",
       "      <td>cafe_saulo_especial</td>\n",
       "      <td>29.9</td>\n",
       "      <td>0.64</td>\n",
       "      <td>40</td>\n",
       "      <td>../datasets/Torra_Cafe_Saulo_Especial/Torra Ba...</td>\n",
       "    </tr>\n",
       "    <tr>\n",
       "      <th>4</th>\n",
       "      <td>cafe_saulo_especial</td>\n",
       "      <td>30.2</td>\n",
       "      <td>0.63</td>\n",
       "      <td>50</td>\n",
       "      <td>../datasets/Torra_Cafe_Saulo_Especial/Torra Ba...</td>\n",
       "    </tr>\n",
       "  </tbody>\n",
       "</table>\n",
       "</div>"
      ],
      "text/plain": [
       "                  grao  temp_amb  umid_amb  batch  \\\n",
       "0  cafe_saulo_especial      30.7      0.61     10   \n",
       "1  cafe_saulo_especial      30.5      0.62     20   \n",
       "2  cafe_saulo_especial      30.5      0.32     30   \n",
       "3  cafe_saulo_especial      29.9      0.64     40   \n",
       "4  cafe_saulo_especial      30.2      0.63     50   \n",
       "\n",
       "                                             arquivo  \n",
       "0  ../datasets/Torra_Cafe_Saulo_Especial/Torra Ba...  \n",
       "1  ../datasets/Torra_Cafe_Saulo_Especial/Torra Ba...  \n",
       "2  ../datasets/Torra_Cafe_Saulo_Especial/Torra Ba...  \n",
       "3  ../datasets/Torra_Cafe_Saulo_Especial/Torra Ba...  \n",
       "4  ../datasets/Torra_Cafe_Saulo_Especial/Torra Ba...  "
      ]
     },
     "execution_count": 52,
     "metadata": {},
     "output_type": "execute_result"
    }
   ],
   "source": [
    "dataset_referencia.head()"
   ]
  },
  {
   "cell_type": "code",
   "execution_count": 53,
   "metadata": {
    "colab": {
     "base_uri": "https://localhost:8080/"
    },
    "id": "JeKPHb7oExAS",
    "outputId": "a587c6b7-bcb1-48d9-ed26-7da2e83eff0e"
   },
   "outputs": [
    {
     "data": {
      "text/plain": [
       "(48, 5)"
      ]
     },
     "execution_count": 53,
     "metadata": {},
     "output_type": "execute_result"
    }
   ],
   "source": [
    "dataset_referencia.shape"
   ]
  },
  {
   "cell_type": "markdown",
   "metadata": {
    "id": "Mrclkp2KevOq"
   },
   "source": [
    "### Parte 1.2 - Captura dos lotes de torra referenciados no arquivo acima:"
   ]
  },
  {
   "cell_type": "code",
   "execution_count": 54,
   "metadata": {
    "id": "KV5FeFyZ_O4D"
   },
   "outputs": [],
   "source": [
    "# Carregando todos os arquivos \"alog\" referenciados em \"dataset\"\n",
    "# Carregando a Base de dados\n",
    "# Carregando os arquivos \"alog\"\n",
    "index = 0\n",
    "dataset_torra = pd.DataFrame()\n",
    "serie_arquivos = dataset_referencia['arquivo']\n",
    "for arq in serie_arquivos:\n",
    "  # Lendo a base de dados de cada arquivo de torra\n",
    "  arq_torra = open(arq)\n",
    "  arq_torra = eval(arq_torra.read())\n",
    "  arq_torra = pd.DataFrame.from_dict(arq_torra, orient='index')\n",
    "  arq_torra = arq_torra.transpose()\n",
    "  arq_torra.index=[index]\n",
    "  index = index + 1\n",
    "  dataset_torra = pd.concat([dataset_torra, arq_torra])\n"
   ]
  },
  {
   "cell_type": "code",
   "execution_count": 55,
   "metadata": {
    "colab": {
     "base_uri": "https://localhost:8080/",
     "height": 807
    },
    "id": "7-8mkbcSfHuE",
    "outputId": "a8b80154-20ae-414a-8fa5-efab3aa5bf0d"
   },
   "outputs": [
    {
     "data": {
      "text/html": [
       "<div>\n",
       "<style scoped>\n",
       "    .dataframe tbody tr th:only-of-type {\n",
       "        vertical-align: middle;\n",
       "    }\n",
       "\n",
       "    .dataframe tbody tr th {\n",
       "        vertical-align: top;\n",
       "    }\n",
       "\n",
       "    .dataframe thead th {\n",
       "        text-align: right;\n",
       "    }\n",
       "</style>\n",
       "<table border=\"1\" class=\"dataframe\">\n",
       "  <thead>\n",
       "    <tr style=\"text-align: right;\">\n",
       "      <th></th>\n",
       "      <th>version</th>\n",
       "      <th>revision</th>\n",
       "      <th>build</th>\n",
       "      <th>artisan_os</th>\n",
       "      <th>artisan_os_version</th>\n",
       "      <th>mode</th>\n",
       "      <th>viewerMode</th>\n",
       "      <th>timeindex</th>\n",
       "      <th>flavors</th>\n",
       "      <th>flavorlabels</th>\n",
       "      <th>...</th>\n",
       "      <th>svRamps</th>\n",
       "      <th>svSoaks</th>\n",
       "      <th>svActions</th>\n",
       "      <th>svBeeps</th>\n",
       "      <th>svDescriptions</th>\n",
       "      <th>devices</th>\n",
       "      <th>elevation</th>\n",
       "      <th>computed</th>\n",
       "      <th>anno_positions</th>\n",
       "      <th>flag_positions</th>\n",
       "    </tr>\n",
       "  </thead>\n",
       "  <tbody>\n",
       "    <tr>\n",
       "      <th>0</th>\n",
       "      <td>2.4.4</td>\n",
       "      <td>1fb3d349</td>\n",
       "      <td>0</td>\n",
       "      <td>Windows</td>\n",
       "      <td>10</td>\n",
       "      <td>C</td>\n",
       "      <td>False</td>\n",
       "      <td>[29, 179, 279, 0, 0, 0, 313, 0]</td>\n",
       "      <td>[5.0, 5.0, 5.0, 5.0, 5.0, 5.0, 5.0, 5.0, 5.0]</td>\n",
       "      <td>[Acidez, Sensa\\xe7\\xe3o, X\\xedcara limpa, Impa...</td>\n",
       "      <td>...</td>\n",
       "      <td>[0, 0, 0, 0, 0, 0, 0, 0]</td>\n",
       "      <td>[0, 0, 0, 0, 0, 0, 0, 0]</td>\n",
       "      <td>[-1, -1, -1, -1, -1, -1, -1, -1]</td>\n",
       "      <td>[False, False, False, False, False, False, Fal...</td>\n",
       "      <td>[, , , , , , , ]</td>\n",
       "      <td>[Phidget 1048 4xTC 01, +MODBUS 34, +MODBUS 56]</td>\n",
       "      <td>0</td>\n",
       "      <td>{'CHARGE_ET': 274.4, 'CHARGE_BT': 215.2, 'TP_i...</td>\n",
       "      <td>[[0, 58.6455796500004, 240.23087252643805, 58....</td>\n",
       "      <td>[]</td>\n",
       "    </tr>\n",
       "    <tr>\n",
       "      <th>1</th>\n",
       "      <td>2.4.4</td>\n",
       "      <td>1fb3d349</td>\n",
       "      <td>0</td>\n",
       "      <td>Windows</td>\n",
       "      <td>10</td>\n",
       "      <td>C</td>\n",
       "      <td>False</td>\n",
       "      <td>[5, 144, 229, 0, 0, 0, 270, 0]</td>\n",
       "      <td>[5.0, 5.0, 5.0, 5.0, 5.0, 5.0, 5.0, 5.0, 5.0]</td>\n",
       "      <td>[Acidez, Sensa\\xe7\\xe3o, X\\xedcara limpa, Impa...</td>\n",
       "      <td>...</td>\n",
       "      <td>[0, 0, 0, 0, 0, 0, 0, 0]</td>\n",
       "      <td>[0, 0, 0, 0, 0, 0, 0, 0]</td>\n",
       "      <td>[-1, -1, -1, -1, -1, -1, -1, -1]</td>\n",
       "      <td>[False, False, False, False, False, False, Fal...</td>\n",
       "      <td>[, , , , , , , ]</td>\n",
       "      <td>[Phidget 1048 4xTC 01, +MODBUS 34, +MODBUS 56]</td>\n",
       "      <td>0</td>\n",
       "      <td>{'CHARGE_ET': 268.4, 'CHARGE_BT': 216.3, 'TP_i...</td>\n",
       "      <td>[[0, 10.28913515000022, 241.3451901009379, 10....</td>\n",
       "      <td>[]</td>\n",
       "    </tr>\n",
       "    <tr>\n",
       "      <th>2</th>\n",
       "      <td>2.4.4</td>\n",
       "      <td>1fb3d349</td>\n",
       "      <td>0</td>\n",
       "      <td>Windows</td>\n",
       "      <td>10</td>\n",
       "      <td>C</td>\n",
       "      <td>False</td>\n",
       "      <td>[4, 141, 231, 0, 0, 0, 267, 0]</td>\n",
       "      <td>[5.0, 5.0, 5.0, 5.0, 5.0, 5.0, 5.0, 5.0, 5.0]</td>\n",
       "      <td>[Acidez, Sensa\\xe7\\xe3o, X\\xedcara limpa, Impa...</td>\n",
       "      <td>...</td>\n",
       "      <td>[0, 0, 0, 0, 0, 0, 0, 0]</td>\n",
       "      <td>[0, 0, 0, 0, 0, 0, 0, 0]</td>\n",
       "      <td>[-1, -1, -1, -1, -1, -1, -1, -1]</td>\n",
       "      <td>[False, False, False, False, False, False, Fal...</td>\n",
       "      <td>[, , , , , , , ]</td>\n",
       "      <td>[Phidget 1048 4xTC 01, +MODBUS 34, +MODBUS 56]</td>\n",
       "      <td>0</td>\n",
       "      <td>{'CHARGE_ET': 267.5, 'CHARGE_BT': 217.6, 'TP_i...</td>\n",
       "      <td>[[0, 10.108973650001644, 242.62174463855496, 1...</td>\n",
       "      <td>[]</td>\n",
       "    </tr>\n",
       "    <tr>\n",
       "      <th>3</th>\n",
       "      <td>2.4.4</td>\n",
       "      <td>1fb3d349</td>\n",
       "      <td>0</td>\n",
       "      <td>Windows</td>\n",
       "      <td>10</td>\n",
       "      <td>C</td>\n",
       "      <td>False</td>\n",
       "      <td>[5, 141, 222, 0, 0, 0, 260, 0]</td>\n",
       "      <td>[5.0, 5.0, 5.0, 5.0, 5.0, 5.0, 5.0, 5.0, 5.0]</td>\n",
       "      <td>[Acidez, Sensa\\xe7\\xe3o, X\\xedcara limpa, Impa...</td>\n",
       "      <td>...</td>\n",
       "      <td>[0, 0, 0, 0, 0, 0, 0, 0]</td>\n",
       "      <td>[0, 0, 0, 0, 0, 0, 0, 0]</td>\n",
       "      <td>[-1, -1, -1, -1, -1, -1, -1, -1]</td>\n",
       "      <td>[False, False, False, False, False, False, Fal...</td>\n",
       "      <td>[, , , , , , , ]</td>\n",
       "      <td>[Phidget 1048 4xTC 01, +MODBUS 34, +MODBUS 56]</td>\n",
       "      <td>0</td>\n",
       "      <td>{'CHARGE_ET': 278.7, 'CHARGE_BT': 224.5, 'TP_i...</td>\n",
       "      <td>[[0, 11.226503150001008, 249.50075915608238, 1...</td>\n",
       "      <td>[]</td>\n",
       "    </tr>\n",
       "    <tr>\n",
       "      <th>4</th>\n",
       "      <td>2.4.4</td>\n",
       "      <td>1fb3d349</td>\n",
       "      <td>0</td>\n",
       "      <td>Windows</td>\n",
       "      <td>10</td>\n",
       "      <td>C</td>\n",
       "      <td>False</td>\n",
       "      <td>[6, 144, 233, 0, 0, 0, 271, 0]</td>\n",
       "      <td>[5.0, 5.0, 5.0, 5.0, 5.0, 5.0, 5.0, 5.0, 5.0]</td>\n",
       "      <td>[Acidez, Sensa\\xe7\\xe3o, X\\xedcara limpa, Impa...</td>\n",
       "      <td>...</td>\n",
       "      <td>[0, 0, 0, 0, 0, 0, 0, 0]</td>\n",
       "      <td>[0, 0, 0, 0, 0, 0, 0, 0]</td>\n",
       "      <td>[-1, -1, -1, -1, -1, -1, -1, -1]</td>\n",
       "      <td>[False, False, False, False, False, False, Fal...</td>\n",
       "      <td>[, , , , , , , ]</td>\n",
       "      <td>[Phidget 1048 4xTC 01, +MODBUS 34, +MODBUS 56]</td>\n",
       "      <td>0</td>\n",
       "      <td>{'CHARGE_ET': 255.1, 'CHARGE_BT': 216.5, 'TP_i...</td>\n",
       "      <td>[[0, 12.77746500000012, 241.4894726938152, 12....</td>\n",
       "      <td>[]</td>\n",
       "    </tr>\n",
       "  </tbody>\n",
       "</table>\n",
       "<p>5 rows × 133 columns</p>\n",
       "</div>"
      ],
      "text/plain": [
       "  version  revision build artisan_os artisan_os_version mode viewerMode  \\\n",
       "0   2.4.4  1fb3d349     0    Windows                 10    C      False   \n",
       "1   2.4.4  1fb3d349     0    Windows                 10    C      False   \n",
       "2   2.4.4  1fb3d349     0    Windows                 10    C      False   \n",
       "3   2.4.4  1fb3d349     0    Windows                 10    C      False   \n",
       "4   2.4.4  1fb3d349     0    Windows                 10    C      False   \n",
       "\n",
       "                         timeindex  \\\n",
       "0  [29, 179, 279, 0, 0, 0, 313, 0]   \n",
       "1   [5, 144, 229, 0, 0, 0, 270, 0]   \n",
       "2   [4, 141, 231, 0, 0, 0, 267, 0]   \n",
       "3   [5, 141, 222, 0, 0, 0, 260, 0]   \n",
       "4   [6, 144, 233, 0, 0, 0, 271, 0]   \n",
       "\n",
       "                                         flavors  \\\n",
       "0  [5.0, 5.0, 5.0, 5.0, 5.0, 5.0, 5.0, 5.0, 5.0]   \n",
       "1  [5.0, 5.0, 5.0, 5.0, 5.0, 5.0, 5.0, 5.0, 5.0]   \n",
       "2  [5.0, 5.0, 5.0, 5.0, 5.0, 5.0, 5.0, 5.0, 5.0]   \n",
       "3  [5.0, 5.0, 5.0, 5.0, 5.0, 5.0, 5.0, 5.0, 5.0]   \n",
       "4  [5.0, 5.0, 5.0, 5.0, 5.0, 5.0, 5.0, 5.0, 5.0]   \n",
       "\n",
       "                                        flavorlabels  ...  \\\n",
       "0  [Acidez, Sensa\\xe7\\xe3o, X\\xedcara limpa, Impa...  ...   \n",
       "1  [Acidez, Sensa\\xe7\\xe3o, X\\xedcara limpa, Impa...  ...   \n",
       "2  [Acidez, Sensa\\xe7\\xe3o, X\\xedcara limpa, Impa...  ...   \n",
       "3  [Acidez, Sensa\\xe7\\xe3o, X\\xedcara limpa, Impa...  ...   \n",
       "4  [Acidez, Sensa\\xe7\\xe3o, X\\xedcara limpa, Impa...  ...   \n",
       "\n",
       "                    svRamps                   svSoaks  \\\n",
       "0  [0, 0, 0, 0, 0, 0, 0, 0]  [0, 0, 0, 0, 0, 0, 0, 0]   \n",
       "1  [0, 0, 0, 0, 0, 0, 0, 0]  [0, 0, 0, 0, 0, 0, 0, 0]   \n",
       "2  [0, 0, 0, 0, 0, 0, 0, 0]  [0, 0, 0, 0, 0, 0, 0, 0]   \n",
       "3  [0, 0, 0, 0, 0, 0, 0, 0]  [0, 0, 0, 0, 0, 0, 0, 0]   \n",
       "4  [0, 0, 0, 0, 0, 0, 0, 0]  [0, 0, 0, 0, 0, 0, 0, 0]   \n",
       "\n",
       "                          svActions  \\\n",
       "0  [-1, -1, -1, -1, -1, -1, -1, -1]   \n",
       "1  [-1, -1, -1, -1, -1, -1, -1, -1]   \n",
       "2  [-1, -1, -1, -1, -1, -1, -1, -1]   \n",
       "3  [-1, -1, -1, -1, -1, -1, -1, -1]   \n",
       "4  [-1, -1, -1, -1, -1, -1, -1, -1]   \n",
       "\n",
       "                                             svBeeps    svDescriptions  \\\n",
       "0  [False, False, False, False, False, False, Fal...  [, , , , , , , ]   \n",
       "1  [False, False, False, False, False, False, Fal...  [, , , , , , , ]   \n",
       "2  [False, False, False, False, False, False, Fal...  [, , , , , , , ]   \n",
       "3  [False, False, False, False, False, False, Fal...  [, , , , , , , ]   \n",
       "4  [False, False, False, False, False, False, Fal...  [, , , , , , , ]   \n",
       "\n",
       "                                          devices elevation  \\\n",
       "0  [Phidget 1048 4xTC 01, +MODBUS 34, +MODBUS 56]         0   \n",
       "1  [Phidget 1048 4xTC 01, +MODBUS 34, +MODBUS 56]         0   \n",
       "2  [Phidget 1048 4xTC 01, +MODBUS 34, +MODBUS 56]         0   \n",
       "3  [Phidget 1048 4xTC 01, +MODBUS 34, +MODBUS 56]         0   \n",
       "4  [Phidget 1048 4xTC 01, +MODBUS 34, +MODBUS 56]         0   \n",
       "\n",
       "                                            computed  \\\n",
       "0  {'CHARGE_ET': 274.4, 'CHARGE_BT': 215.2, 'TP_i...   \n",
       "1  {'CHARGE_ET': 268.4, 'CHARGE_BT': 216.3, 'TP_i...   \n",
       "2  {'CHARGE_ET': 267.5, 'CHARGE_BT': 217.6, 'TP_i...   \n",
       "3  {'CHARGE_ET': 278.7, 'CHARGE_BT': 224.5, 'TP_i...   \n",
       "4  {'CHARGE_ET': 255.1, 'CHARGE_BT': 216.5, 'TP_i...   \n",
       "\n",
       "                                      anno_positions flag_positions  \n",
       "0  [[0, 58.6455796500004, 240.23087252643805, 58....             []  \n",
       "1  [[0, 10.28913515000022, 241.3451901009379, 10....             []  \n",
       "2  [[0, 10.108973650001644, 242.62174463855496, 1...             []  \n",
       "3  [[0, 11.226503150001008, 249.50075915608238, 1...             []  \n",
       "4  [[0, 12.77746500000012, 241.4894726938152, 12....             []  \n",
       "\n",
       "[5 rows x 133 columns]"
      ]
     },
     "execution_count": 55,
     "metadata": {},
     "output_type": "execute_result"
    }
   ],
   "source": [
    "# \"dataset_torra\", contém todos batches de torra contatenados e indexados da \n",
    "# mesma forma que o \"dataset_referencia\"\n",
    "dataset_torra.head()"
   ]
  },
  {
   "cell_type": "code",
   "execution_count": 56,
   "metadata": {
    "id": "R4Uag4Ecg7Ps"
   },
   "outputs": [],
   "source": [
    "# Concatenando as bases em um único dataset\n",
    "dataset_completo = pd.concat([dataset_referencia, dataset_torra], axis=1)"
   ]
  },
  {
   "cell_type": "markdown",
   "metadata": {
    "id": "T8jvJJxAgRVg"
   },
   "source": [
    "### Exibição dos dados Concatenados:"
   ]
  },
  {
   "cell_type": "code",
   "execution_count": 57,
   "metadata": {
    "colab": {
     "base_uri": "https://localhost:8080/",
     "height": 541
    },
    "id": "SyNLvJckrfxj",
    "outputId": "3b8e9cee-486e-482b-b5ea-dc1f0549ccab"
   },
   "outputs": [
    {
     "data": {
      "text/html": [
       "<div>\n",
       "<style scoped>\n",
       "    .dataframe tbody tr th:only-of-type {\n",
       "        vertical-align: middle;\n",
       "    }\n",
       "\n",
       "    .dataframe tbody tr th {\n",
       "        vertical-align: top;\n",
       "    }\n",
       "\n",
       "    .dataframe thead th {\n",
       "        text-align: right;\n",
       "    }\n",
       "</style>\n",
       "<table border=\"1\" class=\"dataframe\">\n",
       "  <thead>\n",
       "    <tr style=\"text-align: right;\">\n",
       "      <th></th>\n",
       "      <th>grao</th>\n",
       "      <th>temp_amb</th>\n",
       "      <th>umid_amb</th>\n",
       "      <th>batch</th>\n",
       "      <th>arquivo</th>\n",
       "      <th>version</th>\n",
       "      <th>revision</th>\n",
       "      <th>build</th>\n",
       "      <th>artisan_os</th>\n",
       "      <th>artisan_os_version</th>\n",
       "      <th>...</th>\n",
       "      <th>svRamps</th>\n",
       "      <th>svSoaks</th>\n",
       "      <th>svActions</th>\n",
       "      <th>svBeeps</th>\n",
       "      <th>svDescriptions</th>\n",
       "      <th>devices</th>\n",
       "      <th>elevation</th>\n",
       "      <th>computed</th>\n",
       "      <th>anno_positions</th>\n",
       "      <th>flag_positions</th>\n",
       "    </tr>\n",
       "  </thead>\n",
       "  <tbody>\n",
       "    <tr>\n",
       "      <th>0</th>\n",
       "      <td>cafe_saulo_especial</td>\n",
       "      <td>30.7</td>\n",
       "      <td>0.61</td>\n",
       "      <td>10</td>\n",
       "      <td>../datasets/Torra_Cafe_Saulo_Especial/Torra Ba...</td>\n",
       "      <td>2.4.4</td>\n",
       "      <td>1fb3d349</td>\n",
       "      <td>0</td>\n",
       "      <td>Windows</td>\n",
       "      <td>10</td>\n",
       "      <td>...</td>\n",
       "      <td>[0, 0, 0, 0, 0, 0, 0, 0]</td>\n",
       "      <td>[0, 0, 0, 0, 0, 0, 0, 0]</td>\n",
       "      <td>[-1, -1, -1, -1, -1, -1, -1, -1]</td>\n",
       "      <td>[False, False, False, False, False, False, Fal...</td>\n",
       "      <td>[, , , , , , , ]</td>\n",
       "      <td>[Phidget 1048 4xTC 01, +MODBUS 34, +MODBUS 56]</td>\n",
       "      <td>0</td>\n",
       "      <td>{'CHARGE_ET': 274.4, 'CHARGE_BT': 215.2, 'TP_i...</td>\n",
       "      <td>[[0, 58.6455796500004, 240.23087252643805, 58....</td>\n",
       "      <td>[]</td>\n",
       "    </tr>\n",
       "    <tr>\n",
       "      <th>1</th>\n",
       "      <td>cafe_saulo_especial</td>\n",
       "      <td>30.5</td>\n",
       "      <td>0.62</td>\n",
       "      <td>20</td>\n",
       "      <td>../datasets/Torra_Cafe_Saulo_Especial/Torra Ba...</td>\n",
       "      <td>2.4.4</td>\n",
       "      <td>1fb3d349</td>\n",
       "      <td>0</td>\n",
       "      <td>Windows</td>\n",
       "      <td>10</td>\n",
       "      <td>...</td>\n",
       "      <td>[0, 0, 0, 0, 0, 0, 0, 0]</td>\n",
       "      <td>[0, 0, 0, 0, 0, 0, 0, 0]</td>\n",
       "      <td>[-1, -1, -1, -1, -1, -1, -1, -1]</td>\n",
       "      <td>[False, False, False, False, False, False, Fal...</td>\n",
       "      <td>[, , , , , , , ]</td>\n",
       "      <td>[Phidget 1048 4xTC 01, +MODBUS 34, +MODBUS 56]</td>\n",
       "      <td>0</td>\n",
       "      <td>{'CHARGE_ET': 268.4, 'CHARGE_BT': 216.3, 'TP_i...</td>\n",
       "      <td>[[0, 10.28913515000022, 241.3451901009379, 10....</td>\n",
       "      <td>[]</td>\n",
       "    </tr>\n",
       "    <tr>\n",
       "      <th>2</th>\n",
       "      <td>cafe_saulo_especial</td>\n",
       "      <td>30.5</td>\n",
       "      <td>0.32</td>\n",
       "      <td>30</td>\n",
       "      <td>../datasets/Torra_Cafe_Saulo_Especial/Torra Ba...</td>\n",
       "      <td>2.4.4</td>\n",
       "      <td>1fb3d349</td>\n",
       "      <td>0</td>\n",
       "      <td>Windows</td>\n",
       "      <td>10</td>\n",
       "      <td>...</td>\n",
       "      <td>[0, 0, 0, 0, 0, 0, 0, 0]</td>\n",
       "      <td>[0, 0, 0, 0, 0, 0, 0, 0]</td>\n",
       "      <td>[-1, -1, -1, -1, -1, -1, -1, -1]</td>\n",
       "      <td>[False, False, False, False, False, False, Fal...</td>\n",
       "      <td>[, , , , , , , ]</td>\n",
       "      <td>[Phidget 1048 4xTC 01, +MODBUS 34, +MODBUS 56]</td>\n",
       "      <td>0</td>\n",
       "      <td>{'CHARGE_ET': 267.5, 'CHARGE_BT': 217.6, 'TP_i...</td>\n",
       "      <td>[[0, 10.108973650001644, 242.62174463855496, 1...</td>\n",
       "      <td>[]</td>\n",
       "    </tr>\n",
       "  </tbody>\n",
       "</table>\n",
       "<p>3 rows × 138 columns</p>\n",
       "</div>"
      ],
      "text/plain": [
       "                  grao  temp_amb  umid_amb  batch  \\\n",
       "0  cafe_saulo_especial      30.7      0.61     10   \n",
       "1  cafe_saulo_especial      30.5      0.62     20   \n",
       "2  cafe_saulo_especial      30.5      0.32     30   \n",
       "\n",
       "                                             arquivo version  revision build  \\\n",
       "0  ../datasets/Torra_Cafe_Saulo_Especial/Torra Ba...   2.4.4  1fb3d349     0   \n",
       "1  ../datasets/Torra_Cafe_Saulo_Especial/Torra Ba...   2.4.4  1fb3d349     0   \n",
       "2  ../datasets/Torra_Cafe_Saulo_Especial/Torra Ba...   2.4.4  1fb3d349     0   \n",
       "\n",
       "  artisan_os artisan_os_version  ...                   svRamps  \\\n",
       "0    Windows                 10  ...  [0, 0, 0, 0, 0, 0, 0, 0]   \n",
       "1    Windows                 10  ...  [0, 0, 0, 0, 0, 0, 0, 0]   \n",
       "2    Windows                 10  ...  [0, 0, 0, 0, 0, 0, 0, 0]   \n",
       "\n",
       "                    svSoaks                         svActions  \\\n",
       "0  [0, 0, 0, 0, 0, 0, 0, 0]  [-1, -1, -1, -1, -1, -1, -1, -1]   \n",
       "1  [0, 0, 0, 0, 0, 0, 0, 0]  [-1, -1, -1, -1, -1, -1, -1, -1]   \n",
       "2  [0, 0, 0, 0, 0, 0, 0, 0]  [-1, -1, -1, -1, -1, -1, -1, -1]   \n",
       "\n",
       "                                             svBeeps    svDescriptions  \\\n",
       "0  [False, False, False, False, False, False, Fal...  [, , , , , , , ]   \n",
       "1  [False, False, False, False, False, False, Fal...  [, , , , , , , ]   \n",
       "2  [False, False, False, False, False, False, Fal...  [, , , , , , , ]   \n",
       "\n",
       "                                          devices elevation  \\\n",
       "0  [Phidget 1048 4xTC 01, +MODBUS 34, +MODBUS 56]         0   \n",
       "1  [Phidget 1048 4xTC 01, +MODBUS 34, +MODBUS 56]         0   \n",
       "2  [Phidget 1048 4xTC 01, +MODBUS 34, +MODBUS 56]         0   \n",
       "\n",
       "                                            computed  \\\n",
       "0  {'CHARGE_ET': 274.4, 'CHARGE_BT': 215.2, 'TP_i...   \n",
       "1  {'CHARGE_ET': 268.4, 'CHARGE_BT': 216.3, 'TP_i...   \n",
       "2  {'CHARGE_ET': 267.5, 'CHARGE_BT': 217.6, 'TP_i...   \n",
       "\n",
       "                                      anno_positions flag_positions  \n",
       "0  [[0, 58.6455796500004, 240.23087252643805, 58....             []  \n",
       "1  [[0, 10.28913515000022, 241.3451901009379, 10....             []  \n",
       "2  [[0, 10.108973650001644, 242.62174463855496, 1...             []  \n",
       "\n",
       "[3 rows x 138 columns]"
      ]
     },
     "execution_count": 57,
     "metadata": {},
     "output_type": "execute_result"
    }
   ],
   "source": [
    "# \"dataset_completo\" representa todos os dados de torra agrupados\n",
    "dataset_completo.head(3)"
   ]
  },
  {
   "cell_type": "markdown",
   "metadata": {
    "id": "dCqcL7rwf4O9"
   },
   "source": [
    "\n",
    "\n",
    "---\n",
    "\n"
   ]
  },
  {
   "cell_type": "markdown",
   "metadata": {
    "id": "KwP3I4WrW3c3"
   },
   "source": [
    "### Parte 2 - Depuração dos dados de torra\n",
    "Para a análise dos dados, optou-se por utilizar apenas os valores de Temperatura e Tempo de Torra no interválo útil, ou seja: \n",
    "* Após a carga dos grãos e\n",
    "* Antes da retirada dos grão do cilíndro de torra\n",
    "\n",
    "Para isso, duas novas colunas forma adicionadas ao \"dataset_completo\", contendo os valores de temperatura e tempo modificados com a remoção dos valores ditos acima: \"temp2_modificado\", \"timex_modificado\", \"charge_bt_modificado\""
   ]
  },
  {
   "cell_type": "code",
   "execution_count": 58,
   "metadata": {
    "colab": {
     "base_uri": "https://localhost:8080/",
     "height": 408
    },
    "id": "fRfBLqO1_d_N",
    "outputId": "7969043d-9632-4f7f-e53b-9315c0ec256e"
   },
   "outputs": [
    {
     "data": {
      "text/html": [
       "<div>\n",
       "<style scoped>\n",
       "    .dataframe tbody tr th:only-of-type {\n",
       "        vertical-align: middle;\n",
       "    }\n",
       "\n",
       "    .dataframe tbody tr th {\n",
       "        vertical-align: top;\n",
       "    }\n",
       "\n",
       "    .dataframe thead th {\n",
       "        text-align: right;\n",
       "    }\n",
       "</style>\n",
       "<table border=\"1\" class=\"dataframe\">\n",
       "  <thead>\n",
       "    <tr style=\"text-align: right;\">\n",
       "      <th></th>\n",
       "      <th>grao</th>\n",
       "      <th>temp_amb</th>\n",
       "      <th>umid_amb</th>\n",
       "      <th>batch</th>\n",
       "      <th>arquivo</th>\n",
       "      <th>version</th>\n",
       "      <th>revision</th>\n",
       "      <th>build</th>\n",
       "      <th>artisan_os</th>\n",
       "      <th>artisan_os_version</th>\n",
       "      <th>...</th>\n",
       "      <th>svBeeps</th>\n",
       "      <th>svDescriptions</th>\n",
       "      <th>devices</th>\n",
       "      <th>elevation</th>\n",
       "      <th>computed</th>\n",
       "      <th>anno_positions</th>\n",
       "      <th>flag_positions</th>\n",
       "      <th>timex_modificado</th>\n",
       "      <th>temp2_modificado</th>\n",
       "      <th>charge_bt_modificado</th>\n",
       "    </tr>\n",
       "  </thead>\n",
       "  <tbody>\n",
       "    <tr>\n",
       "      <th>0</th>\n",
       "      <td>cafe_saulo_especial</td>\n",
       "      <td>30.7</td>\n",
       "      <td>0.61</td>\n",
       "      <td>10</td>\n",
       "      <td>../datasets/Torra_Cafe_Saulo_Especial/Torra Ba...</td>\n",
       "      <td>2.4.4</td>\n",
       "      <td>1fb3d349</td>\n",
       "      <td>0</td>\n",
       "      <td>Windows</td>\n",
       "      <td>10</td>\n",
       "      <td>...</td>\n",
       "      <td>[False, False, False, False, False, False, Fal...</td>\n",
       "      <td>[, , , , , , , ]</td>\n",
       "      <td>[Phidget 1048 4xTC 01, +MODBUS 34, +MODBUS 56]</td>\n",
       "      <td>0</td>\n",
       "      <td>{'CHARGE_ET': 274.4, 'CHARGE_BT': 215.2, 'TP_i...</td>\n",
       "      <td>[[0, 58.6455796500004, 240.23087252643805, 58....</td>\n",
       "      <td>[]</td>\n",
       "      <td>[58.64557965, 60.6460114, 62.6463319, 64.65060...</td>\n",
       "      <td>[215.23087253, 213.67806666, 199.98285238, 185...</td>\n",
       "      <td>215.230873</td>\n",
       "    </tr>\n",
       "    <tr>\n",
       "      <th>1</th>\n",
       "      <td>cafe_saulo_especial</td>\n",
       "      <td>30.5</td>\n",
       "      <td>0.62</td>\n",
       "      <td>20</td>\n",
       "      <td>../datasets/Torra_Cafe_Saulo_Especial/Torra Ba...</td>\n",
       "      <td>2.4.4</td>\n",
       "      <td>1fb3d349</td>\n",
       "      <td>0</td>\n",
       "      <td>Windows</td>\n",
       "      <td>10</td>\n",
       "      <td>...</td>\n",
       "      <td>[False, False, False, False, False, False, Fal...</td>\n",
       "      <td>[, , , , , , , ]</td>\n",
       "      <td>[Phidget 1048 4xTC 01, +MODBUS 34, +MODBUS 56]</td>\n",
       "      <td>0</td>\n",
       "      <td>{'CHARGE_ET': 268.4, 'CHARGE_BT': 216.3, 'TP_i...</td>\n",
       "      <td>[[0, 10.28913515000022, 241.3451901009379, 10....</td>\n",
       "      <td>[]</td>\n",
       "      <td>[10.28913515, 12.289439, 14.2888408, 16.291551...</td>\n",
       "      <td>[216.3451901, 216.12302283, 205.53899633, 189....</td>\n",
       "      <td>216.345190</td>\n",
       "    </tr>\n",
       "  </tbody>\n",
       "</table>\n",
       "<p>2 rows × 141 columns</p>\n",
       "</div>"
      ],
      "text/plain": [
       "                  grao  temp_amb  umid_amb  batch  \\\n",
       "0  cafe_saulo_especial      30.7      0.61     10   \n",
       "1  cafe_saulo_especial      30.5      0.62     20   \n",
       "\n",
       "                                             arquivo version  revision build  \\\n",
       "0  ../datasets/Torra_Cafe_Saulo_Especial/Torra Ba...   2.4.4  1fb3d349     0   \n",
       "1  ../datasets/Torra_Cafe_Saulo_Especial/Torra Ba...   2.4.4  1fb3d349     0   \n",
       "\n",
       "  artisan_os artisan_os_version  ...  \\\n",
       "0    Windows                 10  ...   \n",
       "1    Windows                 10  ...   \n",
       "\n",
       "                                             svBeeps    svDescriptions  \\\n",
       "0  [False, False, False, False, False, False, Fal...  [, , , , , , , ]   \n",
       "1  [False, False, False, False, False, False, Fal...  [, , , , , , , ]   \n",
       "\n",
       "                                          devices elevation  \\\n",
       "0  [Phidget 1048 4xTC 01, +MODBUS 34, +MODBUS 56]         0   \n",
       "1  [Phidget 1048 4xTC 01, +MODBUS 34, +MODBUS 56]         0   \n",
       "\n",
       "                                            computed  \\\n",
       "0  {'CHARGE_ET': 274.4, 'CHARGE_BT': 215.2, 'TP_i...   \n",
       "1  {'CHARGE_ET': 268.4, 'CHARGE_BT': 216.3, 'TP_i...   \n",
       "\n",
       "                                      anno_positions flag_positions  \\\n",
       "0  [[0, 58.6455796500004, 240.23087252643805, 58....             []   \n",
       "1  [[0, 10.28913515000022, 241.3451901009379, 10....             []   \n",
       "\n",
       "                                    timex_modificado  \\\n",
       "0  [58.64557965, 60.6460114, 62.6463319, 64.65060...   \n",
       "1  [10.28913515, 12.289439, 14.2888408, 16.291551...   \n",
       "\n",
       "                                    temp2_modificado charge_bt_modificado  \n",
       "0  [215.23087253, 213.67806666, 199.98285238, 185...           215.230873  \n",
       "1  [216.3451901, 216.12302283, 205.53899633, 189....           216.345190  \n",
       "\n",
       "[2 rows x 141 columns]"
      ]
     },
     "execution_count": 58,
     "metadata": {},
     "output_type": "execute_result"
    }
   ],
   "source": [
    "# Para a análise dos dados, optou-se por utilizar apenas os valores de Temperatura\n",
    "# e Tempo de Torra no interválo útil, ou seja: \n",
    "# - Após a carga dos grãos e\n",
    "# - Antes da retirada dos grão do cilíndro de torra\n",
    "# Para isso, duas novas colunas forma adicionadas ao \"dataset_completo\", contendo\n",
    "# os valores de temperatura e tempo modificados com a remoção dos valores ditos\n",
    "# acima: \"temp2_modificado\", \"timex_modificado\", \"charge_bt_modificado\"\n",
    "\n",
    "dataframe_batches = pd.DataFrame()\n",
    "\n",
    "for torra_batch in dataset_completo.index.to_list():\n",
    "\n",
    "  # ** Retirando os dados da Torra - timex e temp2 **\n",
    "  timex = dataset_completo['timex'][torra_batch]\n",
    "  temp2 = dataset_completo['temp2'][torra_batch]\n",
    "  dic = {'timex':timex,\n",
    "         'temp2':temp2}\n",
    "  # Montando o DataFrame\n",
    "  df = pd.DataFrame(data=dic)\n",
    "\n",
    "  # ** Selecionando os dados antes da retirada dos grãos **\n",
    "  drop_time = dataset_completo['computed'][torra_batch]['DROP_time']\n",
    "  df = df[df['timex'] < drop_time]\n",
    "\n",
    "  # ** Retirando os valores antes da carga dos grãos **\n",
    "  # Primeiro obtemos o maior valor antes do TP\n",
    "  tp_idx = dataset_completo['computed'][torra_batch]['TP_idx']\n",
    "  df2 = df[df.index < tp_idx]\n",
    "  charge_bt = max(df2['temp2'])\n",
    "  # Agora pegamos a sua posição no dataset\n",
    "  charge_bt_idx = df2[df2['temp2']==charge_bt].index[0]\n",
    "  df = df[df.index >= charge_bt_idx]\n",
    "\n",
    "  # ** Removendo erros de Leitura da Amostra - Outliers **\n",
    "  df = df[df['temp2'] > 30.0] # Temperaturas abaixo da Temperatura do Ambiente \n",
    "                              # não serão consideradas\n",
    "\n",
    "  # Concatenando para um novo DataFrame\n",
    "  df2=pd.DataFrame({'timex_modificado': [df['timex'].values],\n",
    "                    'temp2_modificado': [df['temp2'].values],\n",
    "                    'charge_bt_modificado': charge_bt}, index=[torra_batch])\n",
    "  dataframe_batches = pd.concat([dataframe_batches, df2])\n",
    "\n",
    "dataset_completo = pd.concat([dataset_completo, dataframe_batches], axis=1)\n",
    "\n",
    "dataset_completo.head(2)"
   ]
  },
  {
   "cell_type": "markdown",
   "metadata": {
    "id": "eDSsBf5zpHvc"
   },
   "source": [
    "### Visualização da \"poda\" de Dados:"
   ]
  },
  {
   "cell_type": "code",
   "execution_count": 59,
   "metadata": {
    "colab": {
     "base_uri": "https://localhost:8080/",
     "height": 910
    },
    "id": "nMJGZmt9yA1i",
    "outputId": "2a9fb9ee-0ba9-42b6-d7f6-4bb4223477c5"
   },
   "outputs": [
    {
     "data": {
      "text/plain": [
       "Text(0, 0.5, 'Temperatura')"
      ]
     },
     "execution_count": 59,
     "metadata": {},
     "output_type": "execute_result"
    },
    {
     "data": {
      "image/png": "[encoded data removed]",
      "text/plain": [
       "<Figure size 1080x1080 with 2 Axes>"
      ]
     },
     "metadata": {
      "needs_background": "light"
     },
     "output_type": "display_data"
    }
   ],
   "source": [
    "# O gráfico abaixo representa graficamente o tratamento realizado nos valores de \n",
    "# um lote (lote 0), demonstrnado antes e depois da retirada dos dados\n",
    "\n",
    "# Preparando os gráficos\n",
    "grafico = plt.figure()\n",
    "g1 = grafico.add_subplot(2,1,1)\n",
    "g2 = grafico.add_subplot(2,1,2)\n",
    "\n",
    "torra_batch = 0 # Exemplo de um batch\n",
    "grao  = dataset_completo['grao'][torra_batch]\n",
    "timex = dataset_completo['timex'][torra_batch]\n",
    "temp2 = dataset_completo['temp2'][torra_batch]\n",
    "g1.plot(timex, temp2)\n",
    "g1.set_title(\"Torra do grão: \"+grao+\" Dados Originais\")\n",
    "g1.set_xlabel(\"Tempo em Segundos\")\n",
    "g1.set_ylabel(\"Temperatura\")\n",
    "\n",
    "timex = dataset_completo['timex_modificado'][torra_batch]\n",
    "temp2 = dataset_completo['temp2_modificado'][torra_batch]\n",
    "g2.plot(timex, temp2)\n",
    "g2.set_title(\"Torra do grão: \"+grao+\" Dados Modificados\")\n",
    "g2.set_xlabel(\"Tempo em Segundos\")\n",
    "g2.set_ylabel(\"Temperatura\")\n"
   ]
  },
  {
   "cell_type": "markdown",
   "metadata": {
    "id": "2axt3dDff0iz"
   },
   "source": [
    "\n",
    "\n",
    "---\n",
    "\n"
   ]
  },
  {
   "cell_type": "markdown",
   "metadata": {
    "id": "Qax7GinLTKyc"
   },
   "source": [
    "### Estatísticas Básicas"
   ]
  },
  {
   "cell_type": "code",
   "execution_count": 60,
   "metadata": {
    "colab": {
     "base_uri": "https://localhost:8080/",
     "height": 333
    },
    "id": "_yMk_fc-TCug",
    "outputId": "081c7941-414f-4794-a12c-130839101abe"
   },
   "outputs": [
    {
     "data": {
      "text/html": [
       "<div>\n",
       "<style scoped>\n",
       "    .dataframe tbody tr th:only-of-type {\n",
       "        vertical-align: middle;\n",
       "    }\n",
       "\n",
       "    .dataframe tbody tr th {\n",
       "        vertical-align: top;\n",
       "    }\n",
       "\n",
       "    .dataframe thead th {\n",
       "        text-align: right;\n",
       "    }\n",
       "</style>\n",
       "<table border=\"1\" class=\"dataframe\">\n",
       "  <thead>\n",
       "    <tr style=\"text-align: right;\">\n",
       "      <th></th>\n",
       "      <th>grao</th>\n",
       "      <th>temp_amb</th>\n",
       "      <th>umid_amb</th>\n",
       "      <th>peso</th>\n",
       "      <th>timex</th>\n",
       "      <th>temp2</th>\n",
       "      <th>charge_bt_modificado</th>\n",
       "    </tr>\n",
       "  </thead>\n",
       "  <tbody>\n",
       "    <tr>\n",
       "      <th>0</th>\n",
       "      <td>cafe_saulo_especial</td>\n",
       "      <td>30.7</td>\n",
       "      <td>0.61</td>\n",
       "      <td>[2000.0, 1715.0, g]</td>\n",
       "      <td>[58.64557965, 60.6460114, 62.6463319, 64.65060...</td>\n",
       "      <td>[215.23087253, 213.67806666, 199.98285238, 185...</td>\n",
       "      <td>215.230873</td>\n",
       "    </tr>\n",
       "    <tr>\n",
       "      <th>1</th>\n",
       "      <td>cafe_saulo_especial</td>\n",
       "      <td>30.5</td>\n",
       "      <td>0.62</td>\n",
       "      <td>[2000.0, 1717.0, g]</td>\n",
       "      <td>[10.28913515, 12.289439, 14.2888408, 16.291551...</td>\n",
       "      <td>[216.3451901, 216.12302283, 205.53899633, 189....</td>\n",
       "      <td>216.345190</td>\n",
       "    </tr>\n",
       "    <tr>\n",
       "      <th>2</th>\n",
       "      <td>cafe_saulo_especial</td>\n",
       "      <td>30.5</td>\n",
       "      <td>0.32</td>\n",
       "      <td>[2000.0, 1802.0, g]</td>\n",
       "      <td>[10.10897365, 12.1090243, 14.10863075, 18.1082...</td>\n",
       "      <td>[217.62174464, 209.45991099, 193.96918907, 166...</td>\n",
       "      <td>217.621745</td>\n",
       "    </tr>\n",
       "    <tr>\n",
       "      <th>3</th>\n",
       "      <td>cafe_saulo_especial</td>\n",
       "      <td>29.9</td>\n",
       "      <td>0.64</td>\n",
       "      <td>[2000.0, 1721.0, g]</td>\n",
       "      <td>[11.22650315, 13.2273254, 15.2275412, 19.22658...</td>\n",
       "      <td>[224.50075916, 217.81612379, 201.67097142, 173...</td>\n",
       "      <td>224.500759</td>\n",
       "    </tr>\n",
       "    <tr>\n",
       "      <th>4</th>\n",
       "      <td>cafe_saulo_especial</td>\n",
       "      <td>30.2</td>\n",
       "      <td>0.63</td>\n",
       "      <td>[2000.0, 1723.0, g]</td>\n",
       "      <td>[12.777465, 14.77756455, 16.77775905, 18.77943...</td>\n",
       "      <td>[216.48947269, 215.73837593, 203.71064578, 188...</td>\n",
       "      <td>216.489473</td>\n",
       "    </tr>\n",
       "  </tbody>\n",
       "</table>\n",
       "</div>"
      ],
      "text/plain": [
       "                  grao  temp_amb  umid_amb                 peso  \\\n",
       "0  cafe_saulo_especial      30.7      0.61  [2000.0, 1715.0, g]   \n",
       "1  cafe_saulo_especial      30.5      0.62  [2000.0, 1717.0, g]   \n",
       "2  cafe_saulo_especial      30.5      0.32  [2000.0, 1802.0, g]   \n",
       "3  cafe_saulo_especial      29.9      0.64  [2000.0, 1721.0, g]   \n",
       "4  cafe_saulo_especial      30.2      0.63  [2000.0, 1723.0, g]   \n",
       "\n",
       "                                               timex  \\\n",
       "0  [58.64557965, 60.6460114, 62.6463319, 64.65060...   \n",
       "1  [10.28913515, 12.289439, 14.2888408, 16.291551...   \n",
       "2  [10.10897365, 12.1090243, 14.10863075, 18.1082...   \n",
       "3  [11.22650315, 13.2273254, 15.2275412, 19.22658...   \n",
       "4  [12.777465, 14.77756455, 16.77775905, 18.77943...   \n",
       "\n",
       "                                               temp2  charge_bt_modificado  \n",
       "0  [215.23087253, 213.67806666, 199.98285238, 185...            215.230873  \n",
       "1  [216.3451901, 216.12302283, 205.53899633, 189....            216.345190  \n",
       "2  [217.62174464, 209.45991099, 193.96918907, 166...            217.621745  \n",
       "3  [224.50075916, 217.81612379, 201.67097142, 173...            224.500759  \n",
       "4  [216.48947269, 215.73837593, 203.71064578, 188...            216.489473  "
      ]
     },
     "execution_count": 60,
     "metadata": {},
     "output_type": "execute_result"
    }
   ],
   "source": [
    "# Como a curva de Torra é o objetivo central da análise, foi selecionado uma base\n",
    "# de dados com um recorte dos valores necessários:\n",
    "dic_util = {'grao' : dataset_completo['grao'],\n",
    "             'temp_amb': dataset_completo['temp_amb'],\n",
    "             'umid_amb': dataset_completo['umid_amb'],\n",
    "             'peso' : dataset_completo['weight'],\n",
    "             'timex' : dataset_completo['timex_modificado'],\n",
    "             'temp2' : dataset_completo['temp2_modificado'],\n",
    "             'charge_bt_modificado': dataset_completo['charge_bt_modificado']\n",
    "            }\n",
    "dataset_util = pd.DataFrame(dic_util)\n",
    "#dataset_util.rename_axis('batch', axis=1, inplace=True)\n",
    "dataset_util.head()"
   ]
  },
  {
   "cell_type": "code",
   "execution_count": 61,
   "metadata": {
    "colab": {
     "base_uri": "https://localhost:8080/",
     "height": 204
    },
    "id": "Rw7dEMvmbs_p",
    "outputId": "936fc26a-c572-4bd2-9c6b-801becceb3da"
   },
   "outputs": [
    {
     "data": {
      "text/html": [
       "<div>\n",
       "<style scoped>\n",
       "    .dataframe tbody tr th:only-of-type {\n",
       "        vertical-align: middle;\n",
       "    }\n",
       "\n",
       "    .dataframe tbody tr th {\n",
       "        vertical-align: top;\n",
       "    }\n",
       "\n",
       "    .dataframe thead th {\n",
       "        text-align: right;\n",
       "    }\n",
       "</style>\n",
       "<table border=\"1\" class=\"dataframe\">\n",
       "  <thead>\n",
       "    <tr style=\"text-align: right;\">\n",
       "      <th></th>\n",
       "      <th>grao</th>\n",
       "      <th>temp_amb</th>\n",
       "      <th>umid_amb</th>\n",
       "      <th>peso</th>\n",
       "      <th>timex</th>\n",
       "      <th>temp2</th>\n",
       "      <th>charge_bt_modificado</th>\n",
       "    </tr>\n",
       "  </thead>\n",
       "  <tbody>\n",
       "    <tr>\n",
       "      <th>0</th>\n",
       "      <td>cafe_saulo_especial</td>\n",
       "      <td>30.7</td>\n",
       "      <td>0.61</td>\n",
       "      <td>[2000.0, 1715.0, g]</td>\n",
       "      <td>58.64558</td>\n",
       "      <td>215.230873</td>\n",
       "      <td>215.230873</td>\n",
       "    </tr>\n",
       "    <tr>\n",
       "      <th>0</th>\n",
       "      <td>cafe_saulo_especial</td>\n",
       "      <td>30.7</td>\n",
       "      <td>0.61</td>\n",
       "      <td>[2000.0, 1715.0, g]</td>\n",
       "      <td>60.646011</td>\n",
       "      <td>213.678067</td>\n",
       "      <td>215.230873</td>\n",
       "    </tr>\n",
       "    <tr>\n",
       "      <th>0</th>\n",
       "      <td>cafe_saulo_especial</td>\n",
       "      <td>30.7</td>\n",
       "      <td>0.61</td>\n",
       "      <td>[2000.0, 1715.0, g]</td>\n",
       "      <td>62.646332</td>\n",
       "      <td>199.982852</td>\n",
       "      <td>215.230873</td>\n",
       "    </tr>\n",
       "    <tr>\n",
       "      <th>0</th>\n",
       "      <td>cafe_saulo_especial</td>\n",
       "      <td>30.7</td>\n",
       "      <td>0.61</td>\n",
       "      <td>[2000.0, 1715.0, g]</td>\n",
       "      <td>64.650602</td>\n",
       "      <td>185.970144</td>\n",
       "      <td>215.230873</td>\n",
       "    </tr>\n",
       "    <tr>\n",
       "      <th>0</th>\n",
       "      <td>cafe_saulo_especial</td>\n",
       "      <td>30.7</td>\n",
       "      <td>0.61</td>\n",
       "      <td>[2000.0, 1715.0, g]</td>\n",
       "      <td>66.646807</td>\n",
       "      <td>172.630521</td>\n",
       "      <td>215.230873</td>\n",
       "    </tr>\n",
       "  </tbody>\n",
       "</table>\n",
       "</div>"
      ],
      "text/plain": [
       "                  grao  temp_amb  umid_amb                 peso      timex  \\\n",
       "0  cafe_saulo_especial      30.7      0.61  [2000.0, 1715.0, g]   58.64558   \n",
       "0  cafe_saulo_especial      30.7      0.61  [2000.0, 1715.0, g]  60.646011   \n",
       "0  cafe_saulo_especial      30.7      0.61  [2000.0, 1715.0, g]  62.646332   \n",
       "0  cafe_saulo_especial      30.7      0.61  [2000.0, 1715.0, g]  64.650602   \n",
       "0  cafe_saulo_especial      30.7      0.61  [2000.0, 1715.0, g]  66.646807   \n",
       "\n",
       "        temp2  charge_bt_modificado  \n",
       "0  215.230873            215.230873  \n",
       "0  213.678067            215.230873  \n",
       "0  199.982852            215.230873  \n",
       "0  185.970144            215.230873  \n",
       "0  172.630521            215.230873  "
      ]
     },
     "execution_count": 61,
     "metadata": {},
     "output_type": "execute_result"
    }
   ],
   "source": [
    "# \"Explodindo\" os valores de torra \"timex\" e \"temp2\" (Pandas 1.3.0)\n",
    "dataset_util = dataset_util.explode(column=['timex', 'temp2'])\n",
    "dataset_util.head()"
   ]
  },
  {
   "cell_type": "code",
   "execution_count": 62,
   "metadata": {
    "colab": {
     "base_uri": "https://localhost:8080/",
     "height": 204
    },
    "id": "9wg75TP4UTQQ",
    "outputId": "688ecf9d-60e7-4290-866f-dfaae9828fd5"
   },
   "outputs": [
    {
     "data": {
      "text/html": [
       "<div>\n",
       "<style scoped>\n",
       "    .dataframe tbody tr th:only-of-type {\n",
       "        vertical-align: middle;\n",
       "    }\n",
       "\n",
       "    .dataframe tbody tr th {\n",
       "        vertical-align: top;\n",
       "    }\n",
       "\n",
       "    .dataframe thead th {\n",
       "        text-align: right;\n",
       "    }\n",
       "</style>\n",
       "<table border=\"1\" class=\"dataframe\">\n",
       "  <thead>\n",
       "    <tr style=\"text-align: right;\">\n",
       "      <th></th>\n",
       "      <th>batch</th>\n",
       "      <th>grao</th>\n",
       "      <th>temp_amb</th>\n",
       "      <th>umid_amb</th>\n",
       "      <th>peso</th>\n",
       "      <th>timex</th>\n",
       "      <th>temp2</th>\n",
       "      <th>charge_bt_modificado</th>\n",
       "    </tr>\n",
       "  </thead>\n",
       "  <tbody>\n",
       "    <tr>\n",
       "      <th>0</th>\n",
       "      <td>0</td>\n",
       "      <td>cafe_saulo_especial</td>\n",
       "      <td>30.7</td>\n",
       "      <td>0.61</td>\n",
       "      <td>[2000.0, 1715.0, g]</td>\n",
       "      <td>58.64558</td>\n",
       "      <td>215.230873</td>\n",
       "      <td>215.230873</td>\n",
       "    </tr>\n",
       "    <tr>\n",
       "      <th>1</th>\n",
       "      <td>0</td>\n",
       "      <td>cafe_saulo_especial</td>\n",
       "      <td>30.7</td>\n",
       "      <td>0.61</td>\n",
       "      <td>[2000.0, 1715.0, g]</td>\n",
       "      <td>60.646011</td>\n",
       "      <td>213.678067</td>\n",
       "      <td>215.230873</td>\n",
       "    </tr>\n",
       "    <tr>\n",
       "      <th>2</th>\n",
       "      <td>0</td>\n",
       "      <td>cafe_saulo_especial</td>\n",
       "      <td>30.7</td>\n",
       "      <td>0.61</td>\n",
       "      <td>[2000.0, 1715.0, g]</td>\n",
       "      <td>62.646332</td>\n",
       "      <td>199.982852</td>\n",
       "      <td>215.230873</td>\n",
       "    </tr>\n",
       "    <tr>\n",
       "      <th>3</th>\n",
       "      <td>0</td>\n",
       "      <td>cafe_saulo_especial</td>\n",
       "      <td>30.7</td>\n",
       "      <td>0.61</td>\n",
       "      <td>[2000.0, 1715.0, g]</td>\n",
       "      <td>64.650602</td>\n",
       "      <td>185.970144</td>\n",
       "      <td>215.230873</td>\n",
       "    </tr>\n",
       "    <tr>\n",
       "      <th>4</th>\n",
       "      <td>0</td>\n",
       "      <td>cafe_saulo_especial</td>\n",
       "      <td>30.7</td>\n",
       "      <td>0.61</td>\n",
       "      <td>[2000.0, 1715.0, g]</td>\n",
       "      <td>66.646807</td>\n",
       "      <td>172.630521</td>\n",
       "      <td>215.230873</td>\n",
       "    </tr>\n",
       "  </tbody>\n",
       "</table>\n",
       "</div>"
      ],
      "text/plain": [
       "   batch                 grao  temp_amb  umid_amb                 peso  \\\n",
       "0      0  cafe_saulo_especial      30.7      0.61  [2000.0, 1715.0, g]   \n",
       "1      0  cafe_saulo_especial      30.7      0.61  [2000.0, 1715.0, g]   \n",
       "2      0  cafe_saulo_especial      30.7      0.61  [2000.0, 1715.0, g]   \n",
       "3      0  cafe_saulo_especial      30.7      0.61  [2000.0, 1715.0, g]   \n",
       "4      0  cafe_saulo_especial      30.7      0.61  [2000.0, 1715.0, g]   \n",
       "\n",
       "       timex       temp2  charge_bt_modificado  \n",
       "0   58.64558  215.230873            215.230873  \n",
       "1  60.646011  213.678067            215.230873  \n",
       "2  62.646332  199.982852            215.230873  \n",
       "3  64.650602  185.970144            215.230873  \n",
       "4  66.646807  172.630521            215.230873  "
      ]
     },
     "execution_count": 62,
     "metadata": {},
     "output_type": "execute_result"
    }
   ],
   "source": [
    "#recriando o índice de pesquisa\n",
    "dataset_util.reset_index(inplace=True)\n",
    "dataset_util.columns=['batch', 'grao', 'temp_amb', 'umid_amb', \n",
    "                      'peso', 'timex', 'temp2', 'charge_bt_modificado']\n",
    "dataset_util.head()"
   ]
  },
  {
   "cell_type": "code",
   "execution_count": 63,
   "metadata": {
    "colab": {
     "base_uri": "https://localhost:8080/",
     "height": 419
    },
    "id": "7iT5HxPTMuGI",
    "outputId": "df6c801c-9d45-44c4-ba97-152ae9dd0708"
   },
   "outputs": [
    {
     "data": {
      "text/html": [
       "<div>\n",
       "<style scoped>\n",
       "    .dataframe tbody tr th:only-of-type {\n",
       "        vertical-align: middle;\n",
       "    }\n",
       "\n",
       "    .dataframe tbody tr th {\n",
       "        vertical-align: top;\n",
       "    }\n",
       "\n",
       "    .dataframe thead th {\n",
       "        text-align: right;\n",
       "    }\n",
       "</style>\n",
       "<table border=\"1\" class=\"dataframe\">\n",
       "  <thead>\n",
       "    <tr style=\"text-align: right;\">\n",
       "      <th></th>\n",
       "      <th>batch</th>\n",
       "      <th>grao</th>\n",
       "      <th>temp_amb</th>\n",
       "      <th>umid_amb</th>\n",
       "      <th>peso</th>\n",
       "      <th>timex</th>\n",
       "      <th>temp2</th>\n",
       "      <th>charge_bt_modificado</th>\n",
       "      <th>massa_grao</th>\n",
       "    </tr>\n",
       "  </thead>\n",
       "  <tbody>\n",
       "    <tr>\n",
       "      <th>0</th>\n",
       "      <td>0</td>\n",
       "      <td>cafe_saulo_especial</td>\n",
       "      <td>30.7</td>\n",
       "      <td>0.61</td>\n",
       "      <td>[2000.0, 1715.0, g]</td>\n",
       "      <td>58.64558</td>\n",
       "      <td>215.230873</td>\n",
       "      <td>215.230873</td>\n",
       "      <td>2000</td>\n",
       "    </tr>\n",
       "    <tr>\n",
       "      <th>1</th>\n",
       "      <td>0</td>\n",
       "      <td>cafe_saulo_especial</td>\n",
       "      <td>30.7</td>\n",
       "      <td>0.61</td>\n",
       "      <td>[2000.0, 1715.0, g]</td>\n",
       "      <td>60.646011</td>\n",
       "      <td>213.678067</td>\n",
       "      <td>215.230873</td>\n",
       "      <td>2000</td>\n",
       "    </tr>\n",
       "    <tr>\n",
       "      <th>2</th>\n",
       "      <td>0</td>\n",
       "      <td>cafe_saulo_especial</td>\n",
       "      <td>30.7</td>\n",
       "      <td>0.61</td>\n",
       "      <td>[2000.0, 1715.0, g]</td>\n",
       "      <td>62.646332</td>\n",
       "      <td>199.982852</td>\n",
       "      <td>215.230873</td>\n",
       "      <td>2000</td>\n",
       "    </tr>\n",
       "    <tr>\n",
       "      <th>3</th>\n",
       "      <td>0</td>\n",
       "      <td>cafe_saulo_especial</td>\n",
       "      <td>30.7</td>\n",
       "      <td>0.61</td>\n",
       "      <td>[2000.0, 1715.0, g]</td>\n",
       "      <td>64.650602</td>\n",
       "      <td>185.970144</td>\n",
       "      <td>215.230873</td>\n",
       "      <td>2000</td>\n",
       "    </tr>\n",
       "    <tr>\n",
       "      <th>4</th>\n",
       "      <td>0</td>\n",
       "      <td>cafe_saulo_especial</td>\n",
       "      <td>30.7</td>\n",
       "      <td>0.61</td>\n",
       "      <td>[2000.0, 1715.0, g]</td>\n",
       "      <td>66.646807</td>\n",
       "      <td>172.630521</td>\n",
       "      <td>215.230873</td>\n",
       "      <td>2000</td>\n",
       "    </tr>\n",
       "    <tr>\n",
       "      <th>...</th>\n",
       "      <td>...</td>\n",
       "      <td>...</td>\n",
       "      <td>...</td>\n",
       "      <td>...</td>\n",
       "      <td>...</td>\n",
       "      <td>...</td>\n",
       "      <td>...</td>\n",
       "      <td>...</td>\n",
       "      <td>...</td>\n",
       "    </tr>\n",
       "    <tr>\n",
       "      <th>12675</th>\n",
       "      <td>47</td>\n",
       "      <td>cafe_do_mario</td>\n",
       "      <td>28.0</td>\n",
       "      <td>0.58</td>\n",
       "      <td>[600.0, 0.0, g]</td>\n",
       "      <td>548.908025</td>\n",
       "      <td>196.340843</td>\n",
       "      <td>186.634894</td>\n",
       "      <td>600</td>\n",
       "    </tr>\n",
       "    <tr>\n",
       "      <th>12676</th>\n",
       "      <td>47</td>\n",
       "      <td>cafe_do_mario</td>\n",
       "      <td>28.0</td>\n",
       "      <td>0.58</td>\n",
       "      <td>[600.0, 0.0, g]</td>\n",
       "      <td>550.908707</td>\n",
       "      <td>196.536785</td>\n",
       "      <td>186.634894</td>\n",
       "      <td>600</td>\n",
       "    </tr>\n",
       "    <tr>\n",
       "      <th>12677</th>\n",
       "      <td>47</td>\n",
       "      <td>cafe_do_mario</td>\n",
       "      <td>28.0</td>\n",
       "      <td>0.58</td>\n",
       "      <td>[600.0, 0.0, g]</td>\n",
       "      <td>552.908391</td>\n",
       "      <td>196.763094</td>\n",
       "      <td>186.634894</td>\n",
       "      <td>600</td>\n",
       "    </tr>\n",
       "    <tr>\n",
       "      <th>12678</th>\n",
       "      <td>47</td>\n",
       "      <td>cafe_do_mario</td>\n",
       "      <td>28.0</td>\n",
       "      <td>0.58</td>\n",
       "      <td>[600.0, 0.0, g]</td>\n",
       "      <td>554.908076</td>\n",
       "      <td>197.011429</td>\n",
       "      <td>186.634894</td>\n",
       "      <td>600</td>\n",
       "    </tr>\n",
       "    <tr>\n",
       "      <th>12679</th>\n",
       "      <td>47</td>\n",
       "      <td>cafe_do_mario</td>\n",
       "      <td>28.0</td>\n",
       "      <td>0.58</td>\n",
       "      <td>[600.0, 0.0, g]</td>\n",
       "      <td>556.908784</td>\n",
       "      <td>197.275825</td>\n",
       "      <td>186.634894</td>\n",
       "      <td>600</td>\n",
       "    </tr>\n",
       "  </tbody>\n",
       "</table>\n",
       "<p>12680 rows × 9 columns</p>\n",
       "</div>"
      ],
      "text/plain": [
       "       batch                 grao  temp_amb  umid_amb                 peso  \\\n",
       "0          0  cafe_saulo_especial      30.7      0.61  [2000.0, 1715.0, g]   \n",
       "1          0  cafe_saulo_especial      30.7      0.61  [2000.0, 1715.0, g]   \n",
       "2          0  cafe_saulo_especial      30.7      0.61  [2000.0, 1715.0, g]   \n",
       "3          0  cafe_saulo_especial      30.7      0.61  [2000.0, 1715.0, g]   \n",
       "4          0  cafe_saulo_especial      30.7      0.61  [2000.0, 1715.0, g]   \n",
       "...      ...                  ...       ...       ...                  ...   \n",
       "12675     47        cafe_do_mario      28.0      0.58      [600.0, 0.0, g]   \n",
       "12676     47        cafe_do_mario      28.0      0.58      [600.0, 0.0, g]   \n",
       "12677     47        cafe_do_mario      28.0      0.58      [600.0, 0.0, g]   \n",
       "12678     47        cafe_do_mario      28.0      0.58      [600.0, 0.0, g]   \n",
       "12679     47        cafe_do_mario      28.0      0.58      [600.0, 0.0, g]   \n",
       "\n",
       "            timex       temp2  charge_bt_modificado  massa_grao  \n",
       "0        58.64558  215.230873            215.230873        2000  \n",
       "1       60.646011  213.678067            215.230873        2000  \n",
       "2       62.646332  199.982852            215.230873        2000  \n",
       "3       64.650602  185.970144            215.230873        2000  \n",
       "4       66.646807  172.630521            215.230873        2000  \n",
       "...           ...         ...                   ...         ...  \n",
       "12675  548.908025  196.340843            186.634894         600  \n",
       "12676  550.908707  196.536785            186.634894         600  \n",
       "12677  552.908391  196.763094            186.634894         600  \n",
       "12678  554.908076  197.011429            186.634894         600  \n",
       "12679  556.908784  197.275825            186.634894         600  \n",
       "\n",
       "[12680 rows x 9 columns]"
      ]
     },
     "execution_count": 63,
     "metadata": {},
     "output_type": "execute_result"
    }
   ],
   "source": [
    "# Adicionando a Massa de Grãos ao \"dataset_util\"\n",
    "x = np.array(dataset_util['peso'].to_list())[:,0].astype(float).astype(int)\n",
    "dataset_util['massa_grao'] = x\n",
    "dataset_util"
   ]
  },
  {
   "cell_type": "markdown",
   "metadata": {
    "id": "ex-QZZYpc3_l"
   },
   "source": [
    "\n",
    "\n",
    "---\n",
    "\n"
   ]
  },
  {
   "cell_type": "markdown",
   "metadata": {
    "id": "_C4dOJJ9j2Yj"
   },
   "source": [
    "### Análise de Frequências por Tipos de Grãos"
   ]
  },
  {
   "cell_type": "code",
   "execution_count": 64,
   "metadata": {
    "colab": {
     "base_uri": "https://localhost:8080/",
     "height": 204
    },
    "id": "g0UA5fDqgSRF",
    "outputId": "a6cad7e7-e958-47ca-eda4-7b6bb9cc2953"
   },
   "outputs": [
    {
     "data": {
      "text/html": [
       "<div>\n",
       "<style scoped>\n",
       "    .dataframe tbody tr th:only-of-type {\n",
       "        vertical-align: middle;\n",
       "    }\n",
       "\n",
       "    .dataframe tbody tr th {\n",
       "        vertical-align: top;\n",
       "    }\n",
       "\n",
       "    .dataframe thead th {\n",
       "        text-align: right;\n",
       "    }\n",
       "</style>\n",
       "<table border=\"1\" class=\"dataframe\">\n",
       "  <thead>\n",
       "    <tr style=\"text-align: right;\">\n",
       "      <th>Grão</th>\n",
       "      <th>Frequência</th>\n",
       "      <th>Percentual %</th>\n",
       "    </tr>\n",
       "  </thead>\n",
       "  <tbody>\n",
       "    <tr>\n",
       "      <th>cafe_saulo_gourmet</th>\n",
       "      <td>3169</td>\n",
       "      <td>25.0</td>\n",
       "    </tr>\n",
       "    <tr>\n",
       "      <th>cafe_do_mario</th>\n",
       "      <td>2865</td>\n",
       "      <td>22.6</td>\n",
       "    </tr>\n",
       "    <tr>\n",
       "      <th>cafe_saulo_especial</th>\n",
       "      <td>2831</td>\n",
       "      <td>22.3</td>\n",
       "    </tr>\n",
       "    <tr>\n",
       "      <th>vo_mira_conilon</th>\n",
       "      <td>2114</td>\n",
       "      <td>16.7</td>\n",
       "    </tr>\n",
       "    <tr>\n",
       "      <th>vo_mira_arabica</th>\n",
       "      <td>1701</td>\n",
       "      <td>13.4</td>\n",
       "    </tr>\n",
       "  </tbody>\n",
       "</table>\n",
       "</div>"
      ],
      "text/plain": [
       "Grão                 Frequência  Percentual %\n",
       "cafe_saulo_gourmet         3169          25.0\n",
       "cafe_do_mario              2865          22.6\n",
       "cafe_saulo_especial        2831          22.3\n",
       "vo_mira_conilon            2114          16.7\n",
       "vo_mira_arabica            1701          13.4"
      ]
     },
     "execution_count": 64,
     "metadata": {},
     "output_type": "execute_result"
    }
   ],
   "source": [
    "# Frequência dos dados por tipo de grãos\n",
    "frequencia_grao = dataset_util['grao'].value_counts()\n",
    "percentual_grao = dataset_util['grao'].value_counts(normalize = True)*100\n",
    "dic_util={'Frequência': frequencia_grao,\n",
    "          'Percentual %': percentual_grao.round(1)}\n",
    "df = pd.DataFrame(dic_util)\n",
    "df.rename_axis('Grão', axis=1, inplace=True)\n",
    "df"
   ]
  },
  {
   "cell_type": "code",
   "execution_count": 65,
   "metadata": {
    "colab": {
     "base_uri": "https://localhost:8080/",
     "height": 879
    },
    "id": "mNf4i9_Hkx7C",
    "outputId": "124e20ba-8b30-4612-ad59-e1f73eec3f06"
   },
   "outputs": [
    {
     "data": {
      "text/plain": [
       "Text(0.5, 1.0, 'Percentual por Grão da Amostra')"
      ]
     },
     "execution_count": 65,
     "metadata": {},
     "output_type": "execute_result"
    },
    {
     "data": {
      "image/png": "[encoded data removed]",
      "text/plain": [
       "<Figure size 1080x1080 with 2 Axes>"
      ]
     },
     "metadata": {
      "needs_background": "light"
     },
     "output_type": "display_data"
    }
   ],
   "source": [
    "# Visualizando a Frequência por tipo de grãos\n",
    "# Preparando os gráficos\n",
    "grafico = plt.figure()\n",
    "g1 = grafico.add_subplot(2,1,1)\n",
    "g2 = grafico.add_subplot(2,1,2)\n",
    "\n",
    "g1.bar(df.index.values, df['Frequência'])\n",
    "g1.set_title(\"Frequência por Grão da Amostra\")\n",
    "\n",
    "g2.pie(df['Frequência'],labels=df.index.values, autopct='%.1f',)\n",
    "g2.set_title(\"Percentual por Grão da Amostra\")"
   ]
  },
  {
   "cell_type": "markdown",
   "metadata": {
    "id": "z6l0LH3lcD11"
   },
   "source": [
    "\n",
    "\n",
    "---\n",
    "\n"
   ]
  },
  {
   "cell_type": "markdown",
   "metadata": {
    "id": "5cQj_A2eUabG"
   },
   "source": [
    "### Análise da Temperatura do Ambiente"
   ]
  },
  {
   "cell_type": "code",
   "execution_count": 66,
   "metadata": {
    "colab": {
     "base_uri": "https://localhost:8080/",
     "height": 910
    },
    "id": "MgWLlWBMY58C",
    "outputId": "779c9727-ffd7-4887-adf7-d54883b5f69b"
   },
   "outputs": [
    {
     "data": {
      "text/plain": [
       "Text(0.5, 0, 'Temp. ºC')"
      ]
     },
     "execution_count": 66,
     "metadata": {},
     "output_type": "execute_result"
    },
    {
     "data": {
      "image/png": "[encoded data removed]",
      "text/plain": [
       "<Figure size 1080x1080 with 2 Axes>"
      ]
     },
     "metadata": {
      "needs_background": "light"
     },
     "output_type": "display_data"
    }
   ],
   "source": [
    "# Preparando os gráficos\n",
    "grafico = plt.figure()\n",
    "g1 = grafico.add_subplot(2,1,1)\n",
    "g2 = grafico.add_subplot(2,1,2)\n",
    "\n",
    "# Frequência dos Valores de Temperatura do Ambiente de Torra\n",
    "# Histograma da Temperatura do Ambiente na Amostra\n",
    "g1.hist(dataset_util['temp_amb'], bins=15)\n",
    "g1.set_title('Histograma da Temperatura do Ambiente')\n",
    "g1.set_xlabel('Temp. ºC')\n",
    "\n",
    "# Distribuição Frequência dos Valores de Temperatura do Ambiente de Torra\n",
    "# BoxPlot da Temperatura do Ambiente na Amostra\n",
    "g2.boxplot(dataset_util['temp_amb'], vert=False)\n",
    "g2.set_title('Distribuição dos dados da Temperatura do Ambiente')\n",
    "g2.set_xlabel('Temp. ºC')"
   ]
  },
  {
   "cell_type": "code",
   "execution_count": 67,
   "metadata": {
    "colab": {
     "base_uri": "https://localhost:8080/"
    },
    "id": "jwNW6EC5Uwqx",
    "outputId": "530e93c7-a18f-4ebf-9023-d3d6ba00a1ba"
   },
   "outputs": [
    {
     "name": "stdout",
     "output_type": "stream",
     "text": [
      "Valores Centrais da Temperatura do Ambiente da Amostra\n",
      "MODA = 29.90, MEDIANA = 30.00, MÉDIA = 29.57\n"
     ]
    }
   ],
   "source": [
    "# Valores Centrais da Temperatura do Ambiente da Amostra\n",
    "print('Valores Centrais da Temperatura do Ambiente da Amostra')\n",
    "print(\"MODA = %.2f, MEDIANA = %.2f, MÉDIA = %.2f\" \n",
    "      % (dataset_util['temp_amb'].mode()[0], \n",
    "         dataset_util['temp_amb'].median(), \n",
    "         dataset_util['temp_amb'].mean()))"
   ]
  },
  {
   "cell_type": "code",
   "execution_count": 68,
   "metadata": {
    "colab": {
     "base_uri": "https://localhost:8080/"
    },
    "id": "YwpFWq6Eyy2e",
    "outputId": "2b9e0a82-45fc-4ded-910b-a3e4180035f1"
   },
   "outputs": [
    {
     "name": "stdout",
     "output_type": "stream",
     "text": [
      "Desvio Padrão: 1.68\n"
     ]
    }
   ],
   "source": [
    "# Dispersão da Amostra\n",
    "print('Desvio Padrão: %.2f' % dataset_util['temp_amb'].std())"
   ]
  },
  {
   "cell_type": "markdown",
   "metadata": {
    "id": "GPmSmt93b9MY"
   },
   "source": [
    "\n",
    "\n",
    "---\n",
    "\n"
   ]
  },
  {
   "cell_type": "markdown",
   "metadata": {
    "id": "we3wkaFHaL9x"
   },
   "source": [
    "### Análise da Umidade do Ambiente\n",
    "\n"
   ]
  },
  {
   "cell_type": "code",
   "execution_count": 69,
   "metadata": {
    "colab": {
     "base_uri": "https://localhost:8080/",
     "height": 910
    },
    "id": "SbGOWw4HaWQi",
    "outputId": "21af8ec2-84a1-4491-d14d-4520aa01a248"
   },
   "outputs": [
    {
     "data": {
      "text/plain": [
       "Text(0.5, 0, 'Umidade %')"
      ]
     },
     "execution_count": 69,
     "metadata": {},
     "output_type": "execute_result"
    },
    {
     "data": {
      "image/png": "[encoded data removed]",
      "text/plain": [
       "<Figure size 1080x1080 with 2 Axes>"
      ]
     },
     "metadata": {
      "needs_background": "light"
     },
     "output_type": "display_data"
    }
   ],
   "source": [
    "# Preparando os gráficos\n",
    "grafico = plt.figure()\n",
    "g1 = grafico.add_subplot(2,1,1)\n",
    "g2 = grafico.add_subplot(2,1,2)\n",
    "\n",
    "# Frequência dos Valores de Umidade do Ambiente de Torra\n",
    "# Histograma da Umidade do Ambiente na Amostra\n",
    "g1.hist(dataset_util['umid_amb'])\n",
    "g1.set_title('Histograma da Umidade do Ambiente')\n",
    "g1.set_xlabel('Umidade %')\n",
    "\n",
    "# Distribuição Frequência dos Valores de Temperatura do Ambiente de Torra\n",
    "# BoxPlot da Temperatura do Ambiente na Amostra\n",
    "g2.boxplot(dataset_util['umid_amb'], vert=False)\n",
    "g2.set_title('Distribuição dos dados da Umidade do Ambiente')\n",
    "g2.set_xlabel('Umidade %')"
   ]
  },
  {
   "cell_type": "code",
   "execution_count": 70,
   "metadata": {
    "colab": {
     "base_uri": "https://localhost:8080/"
    },
    "id": "R8RchvPFbeB3",
    "outputId": "e51571e0-5a23-4b5c-86f6-e26bb89dc24b"
   },
   "outputs": [
    {
     "name": "stdout",
     "output_type": "stream",
     "text": [
      "Valores Centrais da Umidade do Ambiente da Amostra\n",
      "MODA = 0.64, MEDIANA = 0.56, MÉDIA = 0.56\n"
     ]
    }
   ],
   "source": [
    "# Valores Centrais da Umidade do Ambiente da Amostra\n",
    "print('Valores Centrais da Umidade do Ambiente da Amostra')\n",
    "print(\"MODA = %.2f, MEDIANA = %.2f, MÉDIA = %.2f\" \n",
    "      % (dataset_util['umid_amb'].mode()[0], \n",
    "         dataset_util['umid_amb'].median(), \n",
    "         dataset_util['umid_amb'].mean()))"
   ]
  },
  {
   "cell_type": "code",
   "execution_count": 71,
   "metadata": {
    "colab": {
     "base_uri": "https://localhost:8080/"
    },
    "id": "8mBfFSlwz6DY",
    "outputId": "93ab4711-d3c0-46f4-b9b5-72d5ac2765bb"
   },
   "outputs": [
    {
     "name": "stdout",
     "output_type": "stream",
     "text": [
      "Desvio Padrão: 0.06\n"
     ]
    }
   ],
   "source": [
    "# Dispersão da Amostra\n",
    "print('Desvio Padrão: %.2f' % dataset_util['umid_amb'].std())"
   ]
  },
  {
   "cell_type": "markdown",
   "metadata": {
    "id": "f5_62CmncdDg"
   },
   "source": [
    "\n",
    "\n",
    "---\n",
    "\n"
   ]
  },
  {
   "cell_type": "markdown",
   "metadata": {
    "id": "mrZvsq7dgdYw"
   },
   "source": [
    "### Análise da Massa de Grãos\n"
   ]
  },
  {
   "cell_type": "code",
   "execution_count": 72,
   "metadata": {
    "colab": {
     "base_uri": "https://localhost:8080/",
     "height": 910
    },
    "id": "fE97kQM0gyGk",
    "outputId": "52494687-06ad-46ad-9916-99fb15fa44ef"
   },
   "outputs": [
    {
     "data": {
      "text/plain": [
       "Text(0.5, 0, 'gramas')"
      ]
     },
     "execution_count": 72,
     "metadata": {},
     "output_type": "execute_result"
    },
    {
     "data": {
      "image/png": "[encoded data removed]",
      "text/plain": [
       "<Figure size 1080x1080 with 2 Axes>"
      ]
     },
     "metadata": {
      "needs_background": "light"
     },
     "output_type": "display_data"
    }
   ],
   "source": [
    "# Preparando os gráficos\n",
    "grafico = plt.figure()\n",
    "g1 = grafico.add_subplot(2,1,1)\n",
    "g2 = grafico.add_subplot(2,1,2)\n",
    "\n",
    "# Frequência da Massa de Grãos de Torra\n",
    "# Histograma da Massade Grãos na Amostra\n",
    "g1.hist(dataset_util['massa_grao'])\n",
    "g1.set_title('Histograma da Massa de Grãos')\n",
    "g1.set_xlabel('gramas')\n",
    "\n",
    "# Distribuição Frequência dos Valores de Temperatura do Ambiente de Torra\n",
    "# BoxPlot da Temperatura do Ambiente na Amostra\n",
    "g2.boxplot(dataset_util['massa_grao'], vert=False)\n",
    "g2.set_title('Distribuição da Massa de Grãos na Amostra')\n",
    "g2.set_xlabel('gramas')"
   ]
  },
  {
   "cell_type": "code",
   "execution_count": 73,
   "metadata": {
    "colab": {
     "base_uri": "https://localhost:8080/"
    },
    "id": "pV0HU3SHdrmR",
    "outputId": "eb3bb38f-258f-4c0e-d6e0-aa26799ed0a1"
   },
   "outputs": [
    {
     "name": "stdout",
     "output_type": "stream",
     "text": [
      "Valores Centrais da Massa de Grãos da Amostra\n",
      "MODA = 2000.00, MEDIANA = 2000.00, MÉDIA = 1787.05\n"
     ]
    }
   ],
   "source": [
    "# Valores Centrais da Massa de Grãos da Amostra\n",
    "print('Valores Centrais da Massa de Grãos da Amostra')\n",
    "print(\"MODA = %.2f, MEDIANA = %.2f, MÉDIA = %.2f\" \n",
    "      % (dataset_util['massa_grao'].mode()[0], \n",
    "         dataset_util['massa_grao'].median(), \n",
    "         dataset_util['massa_grao'].mean()))"
   ]
  },
  {
   "cell_type": "code",
   "execution_count": 74,
   "metadata": {
    "colab": {
     "base_uri": "https://localhost:8080/"
    },
    "id": "NRvUZwKAz96c",
    "outputId": "417d771c-1bfe-4369-f657-ccea8331e51e"
   },
   "outputs": [
    {
     "name": "stdout",
     "output_type": "stream",
     "text": [
      "Desvio Padrão: 458.64\n"
     ]
    }
   ],
   "source": [
    "# Dispersão da Amostra\n",
    "print('Desvio Padrão: %.2f' % dataset_util['massa_grao'].std())"
   ]
  },
  {
   "cell_type": "markdown",
   "metadata": {
    "id": "_bZlaVc6sipl"
   },
   "source": [
    "\n",
    "\n",
    "---\n",
    "\n"
   ]
  },
  {
   "cell_type": "markdown",
   "metadata": {
    "id": "oDXTq__TsG_f"
   },
   "source": [
    "## Corrigindo a Base de Dados"
   ]
  },
  {
   "cell_type": "code",
   "execution_count": 75,
   "metadata": {
    "id": "PJ3tudBmEiHr"
   },
   "outputs": [],
   "source": [
    "# Corrigindo os dados de Umidade do Ambiente\n",
    "# O Valor Outlier de umidade será subtituído pela média\n",
    "idx = dataset_util[dataset_util['umid_amb']== 0.32].index.to_list()\n",
    "dataset_util.loc[idx, 'umid_amb'] = dataset_util['umid_amb'].mean()"
   ]
  },
  {
   "cell_type": "code",
   "execution_count": 76,
   "metadata": {
    "colab": {
     "base_uri": "https://localhost:8080/",
     "height": 910
    },
    "id": "P1R-EjonF1RN",
    "outputId": "9267b3b7-c0a8-4f6d-8dc7-2442a6bf66da"
   },
   "outputs": [
    {
     "data": {
      "text/plain": [
       "Text(0.5, 0, 'Umidade %')"
      ]
     },
     "execution_count": 76,
     "metadata": {},
     "output_type": "execute_result"
    },
    {
     "data": {
      "image/png": "[encoded data removed]",
      "text/plain": [
       "<Figure size 1080x1080 with 2 Axes>"
      ]
     },
     "metadata": {
      "needs_background": "light"
     },
     "output_type": "display_data"
    }
   ],
   "source": [
    "# Preparando os gráficos\n",
    "grafico = plt.figure()\n",
    "g1 = grafico.add_subplot(2,1,1)\n",
    "g2 = grafico.add_subplot(2,1,2)\n",
    "\n",
    "# Frequência dos Valores de Umidade do Ambiente de Torra\n",
    "# Histograma da Umidade do Ambiente na Amostra\n",
    "g1.hist(dataset_util['umid_amb'])\n",
    "g1.set_title('Histograma da Umidade do Ambiente')\n",
    "g1.set_xlabel('Umidade %')\n",
    "\n",
    "# Distribuição Frequência da Umidade do Ambiente de Torra\n",
    "# BoxPlot da Umidade do Ambiente na Amostra\n",
    "g2.boxplot(dataset_util['umid_amb'], vert=False)\n",
    "g2.set_title('Distribuição dos dados da Umidade do Ambiente')\n",
    "g2.set_xlabel('Umidade %')"
   ]
  },
  {
   "cell_type": "code",
   "execution_count": 77,
   "metadata": {
    "colab": {
     "base_uri": "https://localhost:8080/"
    },
    "id": "o8tJIHAlF2Ro",
    "outputId": "71fb750a-9850-4f97-ef84-be8909561d52"
   },
   "outputs": [
    {
     "name": "stdout",
     "output_type": "stream",
     "text": [
      "Valores Centrais da Umidade do Ambiente da Amostra\n",
      "MODA = 0.64, MEDIANA = 0.56, MÉDIA = 0.56\n"
     ]
    }
   ],
   "source": [
    "# Valores Centrais da Umidade do Ambiente da Amostra\n",
    "print('Valores Centrais da Umidade do Ambiente da Amostra')\n",
    "print(\"MODA = %.2f, MEDIANA = %.2f, MÉDIA = %.2f\" \n",
    "      % (dataset_util['umid_amb'].mode()[0], \n",
    "         dataset_util['umid_amb'].median(), \n",
    "         dataset_util['umid_amb'].mean()))"
   ]
  },
  {
   "cell_type": "code",
   "execution_count": 78,
   "metadata": {
    "colab": {
     "base_uri": "https://localhost:8080/"
    },
    "id": "FEqjKUL4MxGv",
    "outputId": "fd100d73-6f8a-416d-fe98-b49a696d7b92"
   },
   "outputs": [
    {
     "name": "stdout",
     "output_type": "stream",
     "text": [
      "Desvio Padrão: 0.05\n"
     ]
    }
   ],
   "source": [
    "# Dispersão da Amostra\n",
    "print('Desvio Padrão: %.2f' % dataset_util['umid_amb'].std())"
   ]
  },
  {
   "cell_type": "markdown",
   "metadata": {
    "id": "snG3F1ECGMmn"
   },
   "source": [
    "\n",
    "\n",
    "---\n",
    "\n"
   ]
  },
  {
   "cell_type": "code",
   "execution_count": 79,
   "metadata": {
    "colab": {
     "base_uri": "https://localhost:8080/",
     "height": 419
    },
    "id": "RVLwwiFJGEyD",
    "outputId": "30c7d124-fd5d-4cda-fabb-77d929bf841b"
   },
   "outputs": [
    {
     "data": {
      "text/html": [
       "<div>\n",
       "<style scoped>\n",
       "    .dataframe tbody tr th:only-of-type {\n",
       "        vertical-align: middle;\n",
       "    }\n",
       "\n",
       "    .dataframe tbody tr th {\n",
       "        vertical-align: top;\n",
       "    }\n",
       "\n",
       "    .dataframe thead th {\n",
       "        text-align: right;\n",
       "    }\n",
       "</style>\n",
       "<table border=\"1\" class=\"dataframe\">\n",
       "  <thead>\n",
       "    <tr style=\"text-align: right;\">\n",
       "      <th></th>\n",
       "      <th>batch</th>\n",
       "      <th>grao</th>\n",
       "      <th>temp_amb</th>\n",
       "      <th>umid_amb</th>\n",
       "      <th>peso</th>\n",
       "      <th>timex</th>\n",
       "      <th>temp2</th>\n",
       "      <th>charge_bt_modificado</th>\n",
       "      <th>massa_grao</th>\n",
       "      <th>categoria_massa</th>\n",
       "    </tr>\n",
       "  </thead>\n",
       "  <tbody>\n",
       "    <tr>\n",
       "      <th>0</th>\n",
       "      <td>0</td>\n",
       "      <td>cafe_saulo_especial</td>\n",
       "      <td>30.7</td>\n",
       "      <td>0.61</td>\n",
       "      <td>[2000.0, 1715.0, g]</td>\n",
       "      <td>58.64558</td>\n",
       "      <td>215.230873</td>\n",
       "      <td>215.230873</td>\n",
       "      <td>2000</td>\n",
       "      <td>Acima de 2000</td>\n",
       "    </tr>\n",
       "    <tr>\n",
       "      <th>1</th>\n",
       "      <td>0</td>\n",
       "      <td>cafe_saulo_especial</td>\n",
       "      <td>30.7</td>\n",
       "      <td>0.61</td>\n",
       "      <td>[2000.0, 1715.0, g]</td>\n",
       "      <td>60.646011</td>\n",
       "      <td>213.678067</td>\n",
       "      <td>215.230873</td>\n",
       "      <td>2000</td>\n",
       "      <td>Acima de 2000</td>\n",
       "    </tr>\n",
       "    <tr>\n",
       "      <th>2</th>\n",
       "      <td>0</td>\n",
       "      <td>cafe_saulo_especial</td>\n",
       "      <td>30.7</td>\n",
       "      <td>0.61</td>\n",
       "      <td>[2000.0, 1715.0, g]</td>\n",
       "      <td>62.646332</td>\n",
       "      <td>199.982852</td>\n",
       "      <td>215.230873</td>\n",
       "      <td>2000</td>\n",
       "      <td>Acima de 2000</td>\n",
       "    </tr>\n",
       "    <tr>\n",
       "      <th>3</th>\n",
       "      <td>0</td>\n",
       "      <td>cafe_saulo_especial</td>\n",
       "      <td>30.7</td>\n",
       "      <td>0.61</td>\n",
       "      <td>[2000.0, 1715.0, g]</td>\n",
       "      <td>64.650602</td>\n",
       "      <td>185.970144</td>\n",
       "      <td>215.230873</td>\n",
       "      <td>2000</td>\n",
       "      <td>Acima de 2000</td>\n",
       "    </tr>\n",
       "    <tr>\n",
       "      <th>4</th>\n",
       "      <td>0</td>\n",
       "      <td>cafe_saulo_especial</td>\n",
       "      <td>30.7</td>\n",
       "      <td>0.61</td>\n",
       "      <td>[2000.0, 1715.0, g]</td>\n",
       "      <td>66.646807</td>\n",
       "      <td>172.630521</td>\n",
       "      <td>215.230873</td>\n",
       "      <td>2000</td>\n",
       "      <td>Acima de 2000</td>\n",
       "    </tr>\n",
       "    <tr>\n",
       "      <th>...</th>\n",
       "      <td>...</td>\n",
       "      <td>...</td>\n",
       "      <td>...</td>\n",
       "      <td>...</td>\n",
       "      <td>...</td>\n",
       "      <td>...</td>\n",
       "      <td>...</td>\n",
       "      <td>...</td>\n",
       "      <td>...</td>\n",
       "      <td>...</td>\n",
       "    </tr>\n",
       "    <tr>\n",
       "      <th>12675</th>\n",
       "      <td>47</td>\n",
       "      <td>cafe_do_mario</td>\n",
       "      <td>28.0</td>\n",
       "      <td>0.58</td>\n",
       "      <td>[600.0, 0.0, g]</td>\n",
       "      <td>548.908025</td>\n",
       "      <td>196.340843</td>\n",
       "      <td>186.634894</td>\n",
       "      <td>600</td>\n",
       "      <td>Abaixo de 2000</td>\n",
       "    </tr>\n",
       "    <tr>\n",
       "      <th>12676</th>\n",
       "      <td>47</td>\n",
       "      <td>cafe_do_mario</td>\n",
       "      <td>28.0</td>\n",
       "      <td>0.58</td>\n",
       "      <td>[600.0, 0.0, g]</td>\n",
       "      <td>550.908707</td>\n",
       "      <td>196.536785</td>\n",
       "      <td>186.634894</td>\n",
       "      <td>600</td>\n",
       "      <td>Abaixo de 2000</td>\n",
       "    </tr>\n",
       "    <tr>\n",
       "      <th>12677</th>\n",
       "      <td>47</td>\n",
       "      <td>cafe_do_mario</td>\n",
       "      <td>28.0</td>\n",
       "      <td>0.58</td>\n",
       "      <td>[600.0, 0.0, g]</td>\n",
       "      <td>552.908391</td>\n",
       "      <td>196.763094</td>\n",
       "      <td>186.634894</td>\n",
       "      <td>600</td>\n",
       "      <td>Abaixo de 2000</td>\n",
       "    </tr>\n",
       "    <tr>\n",
       "      <th>12678</th>\n",
       "      <td>47</td>\n",
       "      <td>cafe_do_mario</td>\n",
       "      <td>28.0</td>\n",
       "      <td>0.58</td>\n",
       "      <td>[600.0, 0.0, g]</td>\n",
       "      <td>554.908076</td>\n",
       "      <td>197.011429</td>\n",
       "      <td>186.634894</td>\n",
       "      <td>600</td>\n",
       "      <td>Abaixo de 2000</td>\n",
       "    </tr>\n",
       "    <tr>\n",
       "      <th>12679</th>\n",
       "      <td>47</td>\n",
       "      <td>cafe_do_mario</td>\n",
       "      <td>28.0</td>\n",
       "      <td>0.58</td>\n",
       "      <td>[600.0, 0.0, g]</td>\n",
       "      <td>556.908784</td>\n",
       "      <td>197.275825</td>\n",
       "      <td>186.634894</td>\n",
       "      <td>600</td>\n",
       "      <td>Abaixo de 2000</td>\n",
       "    </tr>\n",
       "  </tbody>\n",
       "</table>\n",
       "<p>12680 rows × 10 columns</p>\n",
       "</div>"
      ],
      "text/plain": [
       "       batch                 grao  temp_amb  umid_amb                 peso  \\\n",
       "0          0  cafe_saulo_especial      30.7      0.61  [2000.0, 1715.0, g]   \n",
       "1          0  cafe_saulo_especial      30.7      0.61  [2000.0, 1715.0, g]   \n",
       "2          0  cafe_saulo_especial      30.7      0.61  [2000.0, 1715.0, g]   \n",
       "3          0  cafe_saulo_especial      30.7      0.61  [2000.0, 1715.0, g]   \n",
       "4          0  cafe_saulo_especial      30.7      0.61  [2000.0, 1715.0, g]   \n",
       "...      ...                  ...       ...       ...                  ...   \n",
       "12675     47        cafe_do_mario      28.0      0.58      [600.0, 0.0, g]   \n",
       "12676     47        cafe_do_mario      28.0      0.58      [600.0, 0.0, g]   \n",
       "12677     47        cafe_do_mario      28.0      0.58      [600.0, 0.0, g]   \n",
       "12678     47        cafe_do_mario      28.0      0.58      [600.0, 0.0, g]   \n",
       "12679     47        cafe_do_mario      28.0      0.58      [600.0, 0.0, g]   \n",
       "\n",
       "            timex       temp2  charge_bt_modificado  massa_grao  \\\n",
       "0        58.64558  215.230873            215.230873        2000   \n",
       "1       60.646011  213.678067            215.230873        2000   \n",
       "2       62.646332  199.982852            215.230873        2000   \n",
       "3       64.650602  185.970144            215.230873        2000   \n",
       "4       66.646807  172.630521            215.230873        2000   \n",
       "...           ...         ...                   ...         ...   \n",
       "12675  548.908025  196.340843            186.634894         600   \n",
       "12676  550.908707  196.536785            186.634894         600   \n",
       "12677  552.908391  196.763094            186.634894         600   \n",
       "12678  554.908076  197.011429            186.634894         600   \n",
       "12679  556.908784  197.275825            186.634894         600   \n",
       "\n",
       "      categoria_massa  \n",
       "0       Acima de 2000  \n",
       "1       Acima de 2000  \n",
       "2       Acima de 2000  \n",
       "3       Acima de 2000  \n",
       "4       Acima de 2000  \n",
       "...               ...  \n",
       "12675  Abaixo de 2000  \n",
       "12676  Abaixo de 2000  \n",
       "12677  Abaixo de 2000  \n",
       "12678  Abaixo de 2000  \n",
       "12679  Abaixo de 2000  \n",
       "\n",
       "[12680 rows x 10 columns]"
      ]
     },
     "execution_count": 79,
     "metadata": {},
     "output_type": "execute_result"
    }
   ],
   "source": [
    "# Corrigindo os Dados de Massa de Grãos\n",
    "categorias = [0, 1999, 10000]\n",
    "labels = ['Abaixo de 2000', 'Acima de 2000']\n",
    "dataset_util['categoria_massa'] = pd.cut(dataset_util['massa_grao'], bins=categorias, labels=labels)\n",
    "dataset_util"
   ]
  },
  {
   "cell_type": "code",
   "execution_count": 80,
   "metadata": {
    "colab": {
     "base_uri": "https://localhost:8080/",
     "height": 879
    },
    "id": "c6lZ2p_gHPnJ",
    "outputId": "c75a57ff-00a3-41a0-f2a4-681fd81545c2"
   },
   "outputs": [
    {
     "data": {
      "text/plain": [
       "Text(0.5, 1.0, 'Percentual por Categoria de Massa de Grãos')"
      ]
     },
     "execution_count": 80,
     "metadata": {},
     "output_type": "execute_result"
    },
    {
     "data": {
      "image/png": "[encoded data removed]",
      "text/plain": [
       "<Figure size 1080x1080 with 2 Axes>"
      ]
     },
     "metadata": {
      "needs_background": "light"
     },
     "output_type": "display_data"
    }
   ],
   "source": [
    "serie = dataset_util['categoria_massa'].value_counts()\n",
    "# Visualizando a Frequência por categoria de Massa de Grãos\n",
    "# Preparando os gráficos\n",
    "grafico = plt.figure()\n",
    "g1 = grafico.add_subplot(2,1,1)\n",
    "g2 = grafico.add_subplot(2,1,2)\n",
    "\n",
    "g1.bar(serie.index, serie)\n",
    "g1.set_title(\"Frequência por Categoria de Massa de Grãos\")\n",
    "\n",
    "g2.pie(serie,labels=serie.index.values, autopct='%.1f',)\n",
    "g2.set_title(\"Percentual por Categoria de Massa de Grãos\")\n"
   ]
  },
  {
   "cell_type": "code",
   "execution_count": 81,
   "metadata": {
    "colab": {
     "base_uri": "https://localhost:8080/",
     "height": 235
    },
    "id": "A7pR0Bq8O3rs",
    "outputId": "b18b45bf-3cf3-4e5b-f9f2-6d255b0a14c8"
   },
   "outputs": [
    {
     "data": {
      "text/html": [
       "<div>\n",
       "<style scoped>\n",
       "    .dataframe tbody tr th:only-of-type {\n",
       "        vertical-align: middle;\n",
       "    }\n",
       "\n",
       "    .dataframe tbody tr th {\n",
       "        vertical-align: top;\n",
       "    }\n",
       "\n",
       "    .dataframe thead th {\n",
       "        text-align: right;\n",
       "    }\n",
       "</style>\n",
       "<table border=\"1\" class=\"dataframe\">\n",
       "  <thead>\n",
       "    <tr style=\"text-align: right;\">\n",
       "      <th>categoria_massa</th>\n",
       "      <th>Abaixo de 2000</th>\n",
       "      <th>Acima de 2000</th>\n",
       "    </tr>\n",
       "    <tr>\n",
       "      <th>grao</th>\n",
       "      <th></th>\n",
       "      <th></th>\n",
       "    </tr>\n",
       "  </thead>\n",
       "  <tbody>\n",
       "    <tr>\n",
       "      <th>cafe_do_mario</th>\n",
       "      <td>8.730284</td>\n",
       "      <td>13.864353</td>\n",
       "    </tr>\n",
       "    <tr>\n",
       "      <th>cafe_saulo_especial</th>\n",
       "      <td>6.238170</td>\n",
       "      <td>16.088328</td>\n",
       "    </tr>\n",
       "    <tr>\n",
       "      <th>cafe_saulo_gourmet</th>\n",
       "      <td>2.082019</td>\n",
       "      <td>22.910095</td>\n",
       "    </tr>\n",
       "    <tr>\n",
       "      <th>vo_mira_arabica</th>\n",
       "      <td>1.900631</td>\n",
       "      <td>11.514196</td>\n",
       "    </tr>\n",
       "    <tr>\n",
       "      <th>vo_mira_conilon</th>\n",
       "      <td>2.381703</td>\n",
       "      <td>14.290221</td>\n",
       "    </tr>\n",
       "  </tbody>\n",
       "</table>\n",
       "</div>"
      ],
      "text/plain": [
       "categoria_massa      Abaixo de 2000  Acima de 2000\n",
       "grao                                              \n",
       "cafe_do_mario              8.730284      13.864353\n",
       "cafe_saulo_especial        6.238170      16.088328\n",
       "cafe_saulo_gourmet         2.082019      22.910095\n",
       "vo_mira_arabica            1.900631      11.514196\n",
       "vo_mira_conilon            2.381703      14.290221"
      ]
     },
     "execution_count": 81,
     "metadata": {},
     "output_type": "execute_result"
    }
   ],
   "source": [
    "# Valores Cruzados de Tipo de Grãos por Categoria de Massa\n",
    "pd.crosstab(dataset_util['grao'], dataset_util['categoria_massa'], normalize=True)*100"
   ]
  },
  {
   "cell_type": "code",
   "execution_count": 82,
   "metadata": {
    "id": "TfsdNcoUKOOr"
   },
   "outputs": [],
   "source": [
    "\n",
    "# Valores Cruzados de Temperatura de Carga por Categoria de Massa\n",
    "# Aplicando a Regra de Sturges para definir um quantidade de categorias pela quantidade de valores\n",
    "n = dataset_completo.shape[0]\n",
    "k = 1 + (10/3)*np.log10(n)\n",
    "k = int(k.round(0))"
   ]
  },
  {
   "cell_type": "code",
   "execution_count": 83,
   "metadata": {
    "colab": {
     "base_uri": "https://localhost:8080/",
     "height": 297
    },
    "id": "egyEIFgnMFX1",
    "outputId": "bd0742c3-832a-4d2d-c152-83e651c5c23a"
   },
   "outputs": [
    {
     "data": {
      "text/html": [
       "<div>\n",
       "<style scoped>\n",
       "    .dataframe tbody tr th:only-of-type {\n",
       "        vertical-align: middle;\n",
       "    }\n",
       "\n",
       "    .dataframe tbody tr th {\n",
       "        vertical-align: top;\n",
       "    }\n",
       "\n",
       "    .dataframe thead th {\n",
       "        text-align: right;\n",
       "    }\n",
       "</style>\n",
       "<table border=\"1\" class=\"dataframe\">\n",
       "  <thead>\n",
       "    <tr style=\"text-align: right;\">\n",
       "      <th>Temp. Carga do Grão</th>\n",
       "      <th>(119.285, 134.407]</th>\n",
       "      <th>(179.454, 194.47]</th>\n",
       "      <th>(194.47, 209.485]</th>\n",
       "      <th>(209.485, 224.501]</th>\n",
       "    </tr>\n",
       "    <tr>\n",
       "      <th>Temperatura Ambiente</th>\n",
       "      <th></th>\n",
       "      <th></th>\n",
       "      <th></th>\n",
       "      <th></th>\n",
       "    </tr>\n",
       "  </thead>\n",
       "  <tbody>\n",
       "    <tr>\n",
       "      <th>(25.993, 26.829]</th>\n",
       "      <td>0</td>\n",
       "      <td>0</td>\n",
       "      <td>1</td>\n",
       "      <td>8</td>\n",
       "    </tr>\n",
       "    <tr>\n",
       "      <th>(26.829, 27.657]</th>\n",
       "      <td>0</td>\n",
       "      <td>0</td>\n",
       "      <td>0</td>\n",
       "      <td>1</td>\n",
       "    </tr>\n",
       "    <tr>\n",
       "      <th>(27.657, 28.486]</th>\n",
       "      <td>0</td>\n",
       "      <td>3</td>\n",
       "      <td>0</td>\n",
       "      <td>0</td>\n",
       "    </tr>\n",
       "    <tr>\n",
       "      <th>(28.486, 29.314]</th>\n",
       "      <td>0</td>\n",
       "      <td>0</td>\n",
       "      <td>0</td>\n",
       "      <td>3</td>\n",
       "    </tr>\n",
       "    <tr>\n",
       "      <th>(29.314, 30.143]</th>\n",
       "      <td>0</td>\n",
       "      <td>0</td>\n",
       "      <td>2</td>\n",
       "      <td>9</td>\n",
       "    </tr>\n",
       "    <tr>\n",
       "      <th>(30.143, 30.971]</th>\n",
       "      <td>1</td>\n",
       "      <td>1</td>\n",
       "      <td>0</td>\n",
       "      <td>10</td>\n",
       "    </tr>\n",
       "    <tr>\n",
       "      <th>(30.971, 31.8]</th>\n",
       "      <td>0</td>\n",
       "      <td>1</td>\n",
       "      <td>1</td>\n",
       "      <td>7</td>\n",
       "    </tr>\n",
       "  </tbody>\n",
       "</table>\n",
       "</div>"
      ],
      "text/plain": [
       "Temp. Carga do Grão   (119.285, 134.407]  (179.454, 194.47]  \\\n",
       "Temperatura Ambiente                                          \n",
       "(25.993, 26.829]                       0                  0   \n",
       "(26.829, 27.657]                       0                  0   \n",
       "(27.657, 28.486]                       0                  3   \n",
       "(28.486, 29.314]                       0                  0   \n",
       "(29.314, 30.143]                       0                  0   \n",
       "(30.143, 30.971]                       1                  1   \n",
       "(30.971, 31.8]                         0                  1   \n",
       "\n",
       "Temp. Carga do Grão   (194.47, 209.485]  (209.485, 224.501]  \n",
       "Temperatura Ambiente                                         \n",
       "(25.993, 26.829]                      1                   8  \n",
       "(26.829, 27.657]                      0                   1  \n",
       "(27.657, 28.486]                      0                   0  \n",
       "(28.486, 29.314]                      0                   3  \n",
       "(29.314, 30.143]                      2                   9  \n",
       "(30.143, 30.971]                      0                  10  \n",
       "(30.971, 31.8]                        1                   7  "
      ]
     },
     "execution_count": 83,
     "metadata": {},
     "output_type": "execute_result"
    }
   ],
   "source": [
    "#Análise de frequência da Temperatura do Ambiente e Temperatura de Carga do Grão\n",
    "s_temp_amb_cat = pd.cut(dataset_completo['temp_amb'], bins=k, include_lowest=True)\n",
    "s_temp_car_cat = pd.cut(dataset_completo['charge_bt_modificado'], bins=k, include_lowest=True)\n",
    "dic = {'Temperatura Ambiente': s_temp_amb_cat,\n",
    "       'Temp. Carga do Grão': s_temp_car_cat}\n",
    "df = pd.DataFrame(dic)\n",
    "pd.crosstab(df['Temperatura Ambiente'], df['Temp. Carga do Grão'])"
   ]
  },
  {
   "cell_type": "markdown",
   "metadata": {
    "id": "wno1PUUduYRu"
   },
   "source": [
    "## Salvando o Dataset"
   ]
  },
  {
   "cell_type": "code",
   "execution_count": 84,
   "metadata": {
    "id": "Fz3lWPDcu0qJ"
   },
   "outputs": [],
   "source": [
    "#Salvando os dados no Google Drive\n",
    "dataset_util.to_csv('../datasets/dataset_cafe_estatistica.csv')"
   ]
  }
 ],
 "metadata": {
  "colab": {
   "collapsed_sections": [],
   "name": "DataSci_inovagrao.ipynb",
   "provenance": []
  },
  "kernelspec": {
   "display_name": "Python 3 (ipykernel)",
   "language": "python",
   "name": "python3"
  },
  "language_info": {
   "codemirror_mode": {
    "name": "ipython",
    "version": 3
   },
   "file_extension": ".py",
   "mimetype": "text/x-python",
   "name": "python",
   "nbconvert_exporter": "python",
   "pygments_lexer": "ipython3",
   "version": "3.9.12"
  }
 },
 "nbformat": 4,
 "nbformat_minor": 1
}
